{
 "cells": [
  {
   "cell_type": "markdown",
   "id": "1eda4f0e",
   "metadata": {},
   "source": [
    "# Preprocess"
   ]
  },
  {
   "cell_type": "code",
   "execution_count": null,
   "id": "6c3f031c",
   "metadata": {},
   "outputs": [],
   "source": [
    "from src.utils.folders_utils import get_repo_folder\n",
    "import json\n",
    "import pandas as pd\n",
    "\n",
    "repo_folder = get_repo_folder()\n",
    "print(f\"Repository folder: {repo_folder}\")\n",
    "\n",
    "chr_america_path = repo_folder / \"src/data/DB_questions/History/ChroniclingAmericaQA/train.json\"\n",
    "print(chr_america_path)\n",
    "\n",
    "with open(chr_america_path, \"r\") as f:\n",
    "    data = json.load(f)  # loads the full list of dicts\n",
    "\n",
    "df = pd.DataFrame(data)\n",
    "df.head()"
   ]
  },
  {
   "cell_type": "code",
   "execution_count": null,
   "id": "84bf8061",
   "metadata": {},
   "outputs": [],
   "source": [
    "df"
   ]
  },
  {
   "cell_type": "code",
   "execution_count": null,
   "id": "bdd4ac66",
   "metadata": {},
   "outputs": [],
   "source": [
    "# write func that extracts the area from the para_id\n",
    "# para_id is in the format of name and then number, we want to extract the name and we dont know how many words it has\n",
    "# e.g. \"New_York_1\" -> \"New_York\", \"California_2\" -> \"California\"\n",
    "\n",
    "def extract_area(para_id):\n",
    "    parts = para_id.split('_')\n",
    "    # while last part is a digit remove it\n",
    "    while parts and parts[-1].isdigit():\n",
    "        parts.pop()\n",
    "    return '_'.join(parts)\n",
    "\n",
    "df['US_state'] = df['para_id'].apply(lambda x: extract_area(x))\n",
    "df['US_state'].unique()"
   ]
  },
  {
   "cell_type": "code",
   "execution_count": null,
   "id": "52868305",
   "metadata": {},
   "outputs": [],
   "source": [
    "df[['para_id', 'context', 'question', 'answer', 'US_state', 'publication_date']]"
   ]
  },
  {
   "cell_type": "code",
   "execution_count": null,
   "id": "a8bf02a4",
   "metadata": {},
   "outputs": [],
   "source": []
  },
  {
   "cell_type": "code",
   "execution_count": null,
   "id": "ac3a7780",
   "metadata": {},
   "outputs": [],
   "source": [
    "# print the content of each column in df[['para_id', 'context', 'question', 'answer']].iloc[0]\n",
    "for column in df[['para_id', 'context', 'question', 'answer']].columns:\n",
    "    print(f\"{column}: {df[column].iloc[0]}\")\n"
   ]
  },
  {
   "cell_type": "code",
   "execution_count": null,
   "id": "e25a1629",
   "metadata": {},
   "outputs": [],
   "source": [
    "# calc len of context column\n",
    "df['context_len'] = df['context'].apply(lambda x: len(x.split()))\n",
    "print(f\"Average context length: {df['context_len'].mean()} words\")\n",
    "print(f\"Max context length: {df['context_len'].max()} words\")\n",
    "print(f\"Min context length: {df['context_len'].min()} words\")"
   ]
  },
  {
   "cell_type": "code",
   "execution_count": null,
   "id": "2e6632ce",
   "metadata": {},
   "outputs": [],
   "source": [
    "# filter df where context_len < 220\n",
    "df_filtered = df[df['context_len'] < 220].reset_index(drop=True)\n",
    "print(f\"Number of rows with context_len < 220: {len(df_filtered)}\")"
   ]
  },
  {
   "cell_type": "code",
   "execution_count": null,
   "id": "628dbc0f",
   "metadata": {},
   "outputs": [],
   "source": [
    "df_filtered['question_description'] = 'US State: ' + df_filtered['US_state'] + '\\nQuestion: ' + df_filtered['question']\n",
    "\n",
    "columns_to_keep = [\n",
    "    'question_description', \n",
    "    'US_state',\n",
    "    'publication_date',\n",
    "    'context', \n",
    "    'question',\n",
    "    'answer'\n",
    "]\n",
    "\n",
    "df_to_index = df_filtered[columns_to_keep]\n",
    "# save df_to_index to csv\n",
    "df_to_index.to_csv(\"history_questions_to_index.csv\", index=False)\n",
    "print(\"Data saved to history_questions_to_index.csv\")"
   ]
  },
  {
   "cell_type": "code",
   "execution_count": null,
   "id": "c0c60467",
   "metadata": {},
   "outputs": [],
   "source": [
    "df_to_index = pd.read_csv(\"history_questions_to_index.csv\")\n",
    "\n",
    "# drop na by col question and col answer\n",
    "print(len(df_to_index))\n",
    "df_to_index = df_to_index.dropna(subset=[\"question\", \"answer\"])\n",
    "df_to_index = df_to_index.reset_index(drop=True)\n",
    "print(len(df_to_index))\n",
    "\n",
    "# df_to_index.to_csv(\"history_questions_to_index.csv\", index=False)"
   ]
  },
  {
   "cell_type": "code",
   "execution_count": null,
   "id": "5e4a9768",
   "metadata": {},
   "outputs": [],
   "source": [
    "# filter by payload size - we'll filter out rows that have length greater than 3000 characters (in all columns together)\n",
    "print(len(df_to_index))\n",
    "filtered = df_to_index[df_to_index.apply(lambda x: x.str.len().sum() <= 3000, axis=1)]\n",
    "filtered = filtered.reset_index(drop=True)\n",
    "print(len(filtered))\n",
    "\n",
    "filtered.to_csv(\"history_questions_to_index.csv\", index=False)"
   ]
  },
  {
   "cell_type": "markdown",
   "id": "051fb1d8",
   "metadata": {},
   "source": [
    "# Index"
   ]
  },
  {
   "cell_type": "code",
   "execution_count": 1,
   "id": "68d81755",
   "metadata": {},
   "outputs": [
    {
     "data": {
      "text/html": [
       "<div>\n",
       "<style scoped>\n",
       "    .dataframe tbody tr th:only-of-type {\n",
       "        vertical-align: middle;\n",
       "    }\n",
       "\n",
       "    .dataframe tbody tr th {\n",
       "        vertical-align: top;\n",
       "    }\n",
       "\n",
       "    .dataframe thead th {\n",
       "        text-align: right;\n",
       "    }\n",
       "</style>\n",
       "<table border=\"1\" class=\"dataframe\">\n",
       "  <thead>\n",
       "    <tr style=\"text-align: right;\">\n",
       "      <th></th>\n",
       "      <th>question_description</th>\n",
       "      <th>US_state</th>\n",
       "      <th>publication_date</th>\n",
       "      <th>context</th>\n",
       "      <th>question</th>\n",
       "      <th>answer</th>\n",
       "    </tr>\n",
       "  </thead>\n",
       "  <tbody>\n",
       "    <tr>\n",
       "      <th>0</th>\n",
       "      <td>US State: New_Hampshire\\nQuestion: Who is the ...</td>\n",
       "      <td>New_Hampshire</td>\n",
       "      <td>1807-08-04</td>\n",
       "      <td>Aiscellaneous Repository. From the Albany Regi...</td>\n",
       "      <td>Who is the author of the book, \"Horrors of Sla...</td>\n",
       "      <td>WILLIAM RAY</td>\n",
       "    </tr>\n",
       "    <tr>\n",
       "      <th>1</th>\n",
       "      <td>US State: New_Hampshire\\nQuestion: What is the...</td>\n",
       "      <td>New_Hampshire</td>\n",
       "      <td>1807-08-04</td>\n",
       "      <td>Upon the correction of this remedy the stomach...</td>\n",
       "      <td>What is the number of the agency that sells Bi...</td>\n",
       "      <td>48</td>\n",
       "    </tr>\n",
       "    <tr>\n",
       "      <th>2</th>\n",
       "      <td>US State: New_Hampshire\\nQuestion: Who is the ...</td>\n",
       "      <td>New_Hampshire</td>\n",
       "      <td>1807-08-04</td>\n",
       "      <td>Upon the correction of this remedy the stomach...</td>\n",
       "      <td>Who is the Vendor of Bitters in Portsmouth?</td>\n",
       "      <td>CHARLES PEIRCE</td>\n",
       "    </tr>\n",
       "    <tr>\n",
       "      <th>3</th>\n",
       "      <td>US State: New_Hampshire\\nQuestion: Who receive...</td>\n",
       "      <td>New_Hampshire</td>\n",
       "      <td>1807-08-04</td>\n",
       "      <td>Also FOR SALE AS ABOVE, NEW GOODS, STEPHEN HAR...</td>\n",
       "      <td>Who received a large assortment of JEWELRY and...</td>\n",
       "      <td>STEPHEN HARDY</td>\n",
       "    </tr>\n",
       "    <tr>\n",
       "      <th>4</th>\n",
       "      <td>US State: New_Hampshire\\nQuestion: How much wa...</td>\n",
       "      <td>New_Hampshire</td>\n",
       "      <td>1807-08-04</td>\n",
       "      <td>At a meeting of the committee of the : subscri...</td>\n",
       "      <td>How much was the third assessment of St. John'...</td>\n",
       "      <td>Twenty Dollars</td>\n",
       "    </tr>\n",
       "    <tr>\n",
       "      <th>...</th>\n",
       "      <td>...</td>\n",
       "      <td>...</td>\n",
       "      <td>...</td>\n",
       "      <td>...</td>\n",
       "      <td>...</td>\n",
       "      <td>...</td>\n",
       "    </tr>\n",
       "    <tr>\n",
       "      <th>172055</th>\n",
       "      <td>US State: North_Carolina\\nQuestion: Who is the...</td>\n",
       "      <td>North_Carolina</td>\n",
       "      <td>1918-11-30</td>\n",
       "      <td>Mr. Leslie Ray of Texas and Mr. Grover Sherril...</td>\n",
       "      <td>Who is the president of Catawba College?</td>\n",
       "      <td>Leslie Ray</td>\n",
       "    </tr>\n",
       "    <tr>\n",
       "      <th>172056</th>\n",
       "      <td>US State: North_Carolina\\nQuestion: Who was th...</td>\n",
       "      <td>North_Carolina</td>\n",
       "      <td>1918-11-30</td>\n",
       "      <td>Mr. Leslie Ray of Texas and Mr. Grover Sherril...</td>\n",
       "      <td>Who was the president of Catawba College?</td>\n",
       "      <td>Ida Troilinger</td>\n",
       "    </tr>\n",
       "    <tr>\n",
       "      <th>172057</th>\n",
       "      <td>US State: North_Carolina\\nQuestion: How long h...</td>\n",
       "      <td>North_Carolina</td>\n",
       "      <td>1918-11-30</td>\n",
       "      <td>There are plenty of such gifts; you'll find lo...</td>\n",
       "      <td>How long has CHICHESTER'S DIAMOND BRAND PILLS ...</td>\n",
       "      <td>25 years</td>\n",
       "    </tr>\n",
       "    <tr>\n",
       "      <th>172058</th>\n",
       "      <td>US State: North_Carolina\\nQuestion: On what da...</td>\n",
       "      <td>North_Carolina</td>\n",
       "      <td>1918-11-30</td>\n",
       "      <td>There are plenty of such gifts; you'll find lo...</td>\n",
       "      <td>On what day of the week is Trinity Lutheran sc...</td>\n",
       "      <td>November 24,1918</td>\n",
       "    </tr>\n",
       "    <tr>\n",
       "      <th>172059</th>\n",
       "      <td>US State: North_Carolina\\nQuestion: Who is the...</td>\n",
       "      <td>North_Carolina</td>\n",
       "      <td>1918-11-30</td>\n",
       "      <td>There are plenty of such gifts; you'll find lo...</td>\n",
       "      <td>Who is the rector of the Church of the Ascension?</td>\n",
       "      <td>S. B. Stroup</td>\n",
       "    </tr>\n",
       "  </tbody>\n",
       "</table>\n",
       "<p>172060 rows × 6 columns</p>\n",
       "</div>"
      ],
      "text/plain": [
       "                                     question_description        US_state  \\\n",
       "0       US State: New_Hampshire\\nQuestion: Who is the ...   New_Hampshire   \n",
       "1       US State: New_Hampshire\\nQuestion: What is the...   New_Hampshire   \n",
       "2       US State: New_Hampshire\\nQuestion: Who is the ...   New_Hampshire   \n",
       "3       US State: New_Hampshire\\nQuestion: Who receive...   New_Hampshire   \n",
       "4       US State: New_Hampshire\\nQuestion: How much wa...   New_Hampshire   \n",
       "...                                                   ...             ...   \n",
       "172055  US State: North_Carolina\\nQuestion: Who is the...  North_Carolina   \n",
       "172056  US State: North_Carolina\\nQuestion: Who was th...  North_Carolina   \n",
       "172057  US State: North_Carolina\\nQuestion: How long h...  North_Carolina   \n",
       "172058  US State: North_Carolina\\nQuestion: On what da...  North_Carolina   \n",
       "172059  US State: North_Carolina\\nQuestion: Who is the...  North_Carolina   \n",
       "\n",
       "       publication_date                                            context  \\\n",
       "0            1807-08-04  Aiscellaneous Repository. From the Albany Regi...   \n",
       "1            1807-08-04  Upon the correction of this remedy the stomach...   \n",
       "2            1807-08-04  Upon the correction of this remedy the stomach...   \n",
       "3            1807-08-04  Also FOR SALE AS ABOVE, NEW GOODS, STEPHEN HAR...   \n",
       "4            1807-08-04  At a meeting of the committee of the : subscri...   \n",
       "...                 ...                                                ...   \n",
       "172055       1918-11-30  Mr. Leslie Ray of Texas and Mr. Grover Sherril...   \n",
       "172056       1918-11-30  Mr. Leslie Ray of Texas and Mr. Grover Sherril...   \n",
       "172057       1918-11-30  There are plenty of such gifts; you'll find lo...   \n",
       "172058       1918-11-30  There are plenty of such gifts; you'll find lo...   \n",
       "172059       1918-11-30  There are plenty of such gifts; you'll find lo...   \n",
       "\n",
       "                                                 question            answer  \n",
       "0       Who is the author of the book, \"Horrors of Sla...       WILLIAM RAY  \n",
       "1       What is the number of the agency that sells Bi...                48  \n",
       "2             Who is the Vendor of Bitters in Portsmouth?    CHARLES PEIRCE  \n",
       "3       Who received a large assortment of JEWELRY and...     STEPHEN HARDY  \n",
       "4       How much was the third assessment of St. John'...    Twenty Dollars  \n",
       "...                                                   ...               ...  \n",
       "172055           Who is the president of Catawba College?        Leslie Ray  \n",
       "172056          Who was the president of Catawba College?    Ida Troilinger  \n",
       "172057  How long has CHICHESTER'S DIAMOND BRAND PILLS ...          25 years  \n",
       "172058  On what day of the week is Trinity Lutheran sc...  November 24,1918  \n",
       "172059  Who is the rector of the Church of the Ascension?      S. B. Stroup  \n",
       "\n",
       "[172060 rows x 6 columns]"
      ]
     },
     "execution_count": 1,
     "metadata": {},
     "output_type": "execute_result"
    }
   ],
   "source": [
    "import pandas as pd\n",
    "df_to_index = pd.read_csv(\"history_questions_to_index.csv\")\n",
    "df_to_index"
   ]
  },
  {
   "cell_type": "code",
   "execution_count": 2,
   "id": "44ac4598",
   "metadata": {},
   "outputs": [
    {
     "data": {
      "text/plain": [
       "'US State: New_Hampshire\\nQuestion: Who is the author of the book, \"Horrors of Slavery, or the American Turf in Tripoli\"?'"
      ]
     },
     "execution_count": 2,
     "metadata": {},
     "output_type": "execute_result"
    }
   ],
   "source": [
    "df_to_index['question_description'].iloc[0]"
   ]
  },
  {
   "cell_type": "code",
   "execution_count": 3,
   "id": "ffa9d66a",
   "metadata": {},
   "outputs": [
    {
     "name": "stdout",
     "output_type": "stream",
     "text": [
      "172060\n",
      "172060\n"
     ]
    }
   ],
   "source": [
    "# check for duplicates by question_description\n",
    "print(len(df_to_index))\n",
    "dedup = df_to_index.drop_duplicates(subset=[\"question_description\"])\n",
    "print(len(dedup))\n",
    "\n",
    "# # save dedup to csv\n",
    "# dedup.to_csv(\"history_questions_to_index.csv\", index=False)\n",
    "# print(\"Data saved to history_questions_to_index.csv after deduplication\")"
   ]
  },
  {
   "cell_type": "code",
   "execution_count": null,
   "id": "71afde31",
   "metadata": {},
   "outputs": [],
   "source": [
    "from src.data.index_and_search import index_df\n",
    "from loguru import logger\n",
    "\n",
    "# run in batches to avoid memory issues - index every 100 rows in the df\n",
    "n = len(df_to_index)\n",
    "for i in range(0, n, 100):\n",
    "    batch_df = df_to_index.iloc[i:i+100]\n",
    "    print(f\"--- {i} / {n} ---\")\n",
    "    try:\n",
    "        index_df(\n",
    "            df=batch_df, \n",
    "            index_by_col=\"question_description\", \n",
    "            need_to_embed_col=True, \n",
    "            id_col=\"question_description\",\n",
    "            collection_name=\"history_questions\",\n",
    "        )\n",
    "    except Exception as e:\n",
    "        logger.error(f\"Error indexing batch starting at row {i}: {e}\")\n"
   ]
  }
 ],
 "metadata": {
  "kernelspec": {
   "display_name": "private_teacher_agent",
   "language": "python",
   "name": "python3"
  },
  "language_info": {
   "codemirror_mode": {
    "name": "ipython",
    "version": 3
   },
   "file_extension": ".py",
   "mimetype": "text/x-python",
   "name": "python",
   "nbconvert_exporter": "python",
   "pygments_lexer": "ipython3",
   "version": "3.11.13"
  }
 },
 "nbformat": 4,
 "nbformat_minor": 5
}
