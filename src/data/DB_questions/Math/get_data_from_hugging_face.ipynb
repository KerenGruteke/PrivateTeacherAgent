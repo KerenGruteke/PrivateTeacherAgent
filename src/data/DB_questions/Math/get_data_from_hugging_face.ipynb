{
 "cells": [
  {
   "cell_type": "code",
   "execution_count": null,
   "id": "4ca6f9b9",
   "metadata": {},
   "outputs": [],
   "source": [
    "from datasets import load_dataset\n",
    "import pandas as pd\n",
    "\n",
    "# Load a specific module (e.g., algebra__linear_1d)\n",
    "dataset = load_dataset(\"./math_dataset.py\", \"algebra__linear_1d\")\n",
    "\n",
    "# Convert the first few rows to pandas DataFrame\n",
    "df = pd.DataFrame(dataset[\"train\"][:5])\n",
    "print(df)"
   ]
  }
 ],
 "metadata": {
  "kernelspec": {
   "display_name": "private_teacher_agent",
   "language": "python",
   "name": "python3"
  },
  "language_info": {
   "codemirror_mode": {
    "name": "ipython",
    "version": 3
   },
   "file_extension": ".py",
   "mimetype": "text/x-python",
   "name": "python",
   "nbconvert_exporter": "python",
   "pygments_lexer": "ipython3",
   "version": "3.11.13"
  }
 },
 "nbformat": 4,
 "nbformat_minor": 5
}
