{
 "cells": [
  {
   "metadata": {},
   "cell_type": "markdown",
   "source": "# Index",
   "id": "66c87b9bd93df381"
  },
  {
   "metadata": {
    "jupyter": {
     "is_executing": true
    }
   },
   "cell_type": "code",
   "source": [
    "from src.data.index_and_search import index_df\n",
    "from loguru import logger\n",
    "\n",
    "# run in batches to avoid memory issues - index every 100 rows in the df\n",
    "def index(df_to_index):\n",
    "    n = len(df_to_index)\n",
    "    for i in range(0, n, 100):\n",
    "        batch_df = df_to_index.iloc[i:i+100]\n",
    "        print(f\"--- {i} / {n} ---\")\n",
    "        try:\n",
    "            index_df(\n",
    "                df=batch_df,\n",
    "                index_by_col=\"question_description\",\n",
    "                need_to_embed_col=True,\n",
    "                id_col=\"question_description\",\n",
    "                collection_name=\"math_questions\",\n",
    "            )\n",
    "        except Exception as e:\n",
    "            logger.error(f\"Error indexing batch starting at row {i}: {e}\")\n"
   ],
   "id": "281c1ddce386cdb0",
   "outputs": [],
   "execution_count": null
  },
  {
   "cell_type": "markdown",
   "id": "1eda4f0e",
   "metadata": {},
   "source": "# Preprocess + Indexing - take first 20,000 rows from each math full dataset"
  },
  {
   "cell_type": "code",
   "execution_count": 1,
   "id": "6c3f031c",
   "metadata": {},
   "outputs": [
    {
     "name": "stdout",
     "output_type": "stream",
     "text": [
      "Repository folder: /Users/kereng/Projects/PrivateTeacherAgent\n",
      "/Users/kereng/Projects/PrivateTeacherAgent/src/data/DB_questions/Math/math_dataset_csvs/algebra__linear_1d_full.csv\n"
     ]
    },
    {
     "data": {
      "text/html": [
       "<div>\n",
       "<style scoped>\n",
       "    .dataframe tbody tr th:only-of-type {\n",
       "        vertical-align: middle;\n",
       "    }\n",
       "\n",
       "    .dataframe tbody tr th {\n",
       "        vertical-align: top;\n",
       "    }\n",
       "\n",
       "    .dataframe thead th {\n",
       "        text-align: right;\n",
       "    }\n",
       "</style>\n",
       "<table border=\"1\" class=\"dataframe\">\n",
       "  <thead>\n",
       "    <tr style=\"text-align: right;\">\n",
       "      <th></th>\n",
       "      <th>question</th>\n",
       "      <th>answer</th>\n",
       "      <th>module</th>\n",
       "    </tr>\n",
       "  </thead>\n",
       "  <tbody>\n",
       "    <tr>\n",
       "      <th>0</th>\n",
       "      <td>b'Solve 24 = 1601*c - 1605*c for c.\\n'</td>\n",
       "      <td>b'-6\\n'</td>\n",
       "      <td>algebra__linear_1d</td>\n",
       "    </tr>\n",
       "    <tr>\n",
       "      <th>1</th>\n",
       "      <td>b'Solve 657 = -220*t + 1086*t + 22307 for t.\\n'</td>\n",
       "      <td>b'-25\\n'</td>\n",
       "      <td>algebra__linear_1d</td>\n",
       "    </tr>\n",
       "    <tr>\n",
       "      <th>2</th>\n",
       "      <td>b'Solve -11*y - 263*y + 3162 = -88*y for y.\\n'</td>\n",
       "      <td>b'17\\n'</td>\n",
       "      <td>algebra__linear_1d</td>\n",
       "    </tr>\n",
       "    <tr>\n",
       "      <th>3</th>\n",
       "      <td>b'Solve 0 = -11*b - 4148 + 4225 for b.\\n'</td>\n",
       "      <td>b'7\\n'</td>\n",
       "      <td>algebra__linear_1d</td>\n",
       "    </tr>\n",
       "    <tr>\n",
       "      <th>4</th>\n",
       "      <td>b'Solve 65*l - 361 + 881 = 0 for l.\\n'</td>\n",
       "      <td>b'-8\\n'</td>\n",
       "      <td>algebra__linear_1d</td>\n",
       "    </tr>\n",
       "  </tbody>\n",
       "</table>\n",
       "</div>"
      ],
      "text/plain": [
       "                                          question    answer  \\\n",
       "0           b'Solve 24 = 1601*c - 1605*c for c.\\n'   b'-6\\n'   \n",
       "1  b'Solve 657 = -220*t + 1086*t + 22307 for t.\\n'  b'-25\\n'   \n",
       "2   b'Solve -11*y - 263*y + 3162 = -88*y for y.\\n'   b'17\\n'   \n",
       "3        b'Solve 0 = -11*b - 4148 + 4225 for b.\\n'    b'7\\n'   \n",
       "4           b'Solve 65*l - 361 + 881 = 0 for l.\\n'   b'-8\\n'   \n",
       "\n",
       "               module  \n",
       "0  algebra__linear_1d  \n",
       "1  algebra__linear_1d  \n",
       "2  algebra__linear_1d  \n",
       "3  algebra__linear_1d  \n",
       "4  algebra__linear_1d  "
      ]
     },
     "execution_count": 1,
     "metadata": {},
     "output_type": "execute_result"
    }
   ],
   "source": [
    "from src.utils.folders_utils import get_repo_folder\n",
    "import pandas as pd\n",
    "import Path\n",
    "\n",
    "repo_folder = get_repo_folder()\n",
    "print(f\"Repository folder: {repo_folder}\")\n",
    "\n",
    "\n",
    "directory = Path(repo_folder / \"src/data/DB_questions/Math/math_dataset_csvs\")\n",
    "\n",
    "dfs = []\n",
    "\n",
    "# Loop through all CSV files\n",
    "for file_path in directory.glob(\"*.csv\"):\n",
    "    print(f\"Processing {file_path.name}...\")\n",
    "\n",
    "    df = pd.read_csv(file_path)[:20000]\n",
    "\n",
    "    df[\"question_description\"] = df.apply(lambda row: f\"Topic: {row['module']}\\nQuestion: {row['question']}\", axis=1)\n",
    "\n",
    "    index(df)\n"
   ]
  }
 ],
 "metadata": {
  "kernelspec": {
   "display_name": "private_teacher_agent",
   "language": "python",
   "name": "python3"
  },
  "language_info": {
   "codemirror_mode": {
    "name": "ipython",
    "version": 3
   },
   "file_extension": ".py",
   "mimetype": "text/x-python",
   "name": "python",
   "nbconvert_exporter": "python",
   "pygments_lexer": "ipython3",
   "version": "3.11.13"
  }
 },
 "nbformat": 4,
 "nbformat_minor": 5
}
