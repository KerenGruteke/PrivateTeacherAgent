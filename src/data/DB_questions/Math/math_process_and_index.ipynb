{
 "cells": [
  {
   "cell_type": "markdown",
   "id": "66c87b9bd93df381",
   "metadata": {},
   "source": [
    "# Index"
   ]
  },
  {
   "cell_type": "code",
   "execution_count": 2,
   "id": "281c1ddce386cdb0",
   "metadata": {
    "ExecuteTime": {
     "end_time": "2025-08-14T06:28:57.707270Z",
     "start_time": "2025-08-14T06:28:57.686843Z"
    }
   },
   "outputs": [],
   "source": [
    "from src.data.index_and_search import index_df, get_db_object\n",
    "from loguru import logger\n",
    "\n",
    "# run in batches to avoid memory issues - index every 100 rows in the df\n",
    "def index(df_to_index, batch_size=100):\n",
    "    n = len(df_to_index)\n",
    "    for i in range(0, n, batch_size):\n",
    "        batch_df = df_to_index.iloc[i:i+batch_size]\n",
    "        print(f\"--- {i} / {n} ---\")\n",
    "        try:\n",
    "            index_df(\n",
    "                df=batch_df,\n",
    "                index_by_col=\"question_description\",\n",
    "                need_to_embed_col=True,\n",
    "                id_col=\"question_description\",\n",
    "                collection_name=\"math_questions\",\n",
    "            )\n",
    "        except Exception as e:\n",
    "            logger.error(f\"Error indexing batch starting at row {i}: {e}\")\n"
   ]
  },
  {
   "cell_type": "markdown",
   "id": "1eda4f0e",
   "metadata": {},
   "source": [
    "# Preprocess + Indexing - take first 20,000 rows from each math full dataset"
   ]
  },
  {
   "cell_type": "code",
   "execution_count": 2,
   "id": "370e1975df5df4ee",
   "metadata": {
    "ExecuteTime": {
     "end_time": "2025-08-14T06:28:05.406016Z",
     "start_time": "2025-08-14T06:28:03.473058Z"
    }
   },
   "outputs": [
    {
     "name": "stdout",
     "output_type": "stream",
     "text": [
      "Example from collection 'math_questions': \n",
      "([Record(id='000e2a02-ca5c-5d79-b01c-b093ecae91fb', payload={'question': \"b'What is the second derivative of i**5 + 54*i**3*t + 2*i*t + 103*i + 2 wrt i?\\\\n'\", 'answer': \"b'20*i**3 + 324*i*t\\\\n'\", 'module': 'calculus__differentiate', 'question_description': \"Topic: calculus__differentiate\\nQuestion: b'What is the second derivative of i**5 + 54*i**3*t + 2*i*t + 103*i + 2 wrt i?\\\\n'\"}, vector=None, shard_key=None, order_value=None), Record(id='000e5735-9c20-5e1e-bf11-aaf35f819c0e', payload={'question': \"b'Solve 27*i - 277 - 133 = -32 for i.\\\\n'\", 'answer': \"b'14\\\\n'\", 'module': 'algebra__linear_1d', 'question_description': \"Topic: algebra__linear_1d\\nQuestion: b'Solve 27*i - 277 - 133 = -32 for i.\\\\n'\"}, vector=None, shard_key=None, order_value=None)], '000fe6b6-eb2c-57f9-9a5b-b4df0a6809f3')\n"
     ]
    }
   ],
   "source": [
    "db = get_db_object()\n",
    "db.print_example(\"math_questions\", 2)"
   ]
  },
  {
   "cell_type": "code",
   "execution_count": null,
   "id": "4b9e36702b98e84e",
   "metadata": {
    "ExecuteTime": {
     "end_time": "2025-08-14T06:30:20.796472Z",
     "start_time": "2025-08-14T06:28:59.838280Z"
    }
   },
   "outputs": [
    {
     "name": "stdout",
     "output_type": "stream",
     "text": [
      "Repository folder: /Users/kereng/Projects/PrivateTeacherAgent\n",
      "Processing numbers__gcd_full.csv...\n",
      "--- 0 / 2000 ---\n"
     ]
    },
    {
     "name": "stderr",
     "output_type": "stream",
     "text": [
      "Generating embeddings: 100%|██████████| 100/100 [00:20<00:00,  4.81it/s]\n",
      "Inserting data into math_questions: 100%|██████████| 100/100 [00:00<00:00, 44407.67it/s]\n"
     ]
    },
    {
     "name": "stdout",
     "output_type": "stream",
     "text": [
      "Collection 'math_questions' size: count=33405\n",
      "--- 100 / 2000 ---\n"
     ]
    },
    {
     "name": "stderr",
     "output_type": "stream",
     "text": [
      "Generating embeddings: 100%|██████████| 100/100 [00:23<00:00,  4.24it/s]\n",
      "Inserting data into math_questions: 100%|██████████| 100/100 [00:00<00:00, 34781.52it/s]\n"
     ]
    },
    {
     "name": "stdout",
     "output_type": "stream",
     "text": [
      "Collection 'math_questions' size: count=33505\n",
      "--- 200 / 2000 ---\n"
     ]
    },
    {
     "name": "stderr",
     "output_type": "stream",
     "text": [
      "Generating embeddings: 100%|██████████| 100/100 [00:20<00:00,  4.80it/s]\n",
      "Inserting data into math_questions: 100%|██████████| 100/100 [00:00<00:00, 30506.25it/s]\n"
     ]
    },
    {
     "name": "stdout",
     "output_type": "stream",
     "text": [
      "Collection 'math_questions' size: count=33605\n",
      "--- 300 / 2000 ---\n"
     ]
    },
    {
     "name": "stderr",
     "output_type": "stream",
     "text": [
      "Generating embeddings: 100%|██████████| 100/100 [00:21<00:00,  4.69it/s]\n",
      "Inserting data into math_questions: 100%|██████████| 100/100 [00:00<00:00, 22988.79it/s]\n"
     ]
    },
    {
     "name": "stdout",
     "output_type": "stream",
     "text": [
      "Collection 'math_questions' size: count=33705\n",
      "--- 400 / 2000 ---\n"
     ]
    },
    {
     "name": "stderr",
     "output_type": "stream",
     "text": [
      "Generating embeddings: 100%|██████████| 100/100 [00:19<00:00,  5.00it/s]\n",
      "Inserting data into math_questions: 100%|██████████| 100/100 [00:00<00:00, 28546.27it/s]\n"
     ]
    },
    {
     "name": "stdout",
     "output_type": "stream",
     "text": [
      "Collection 'math_questions' size: count=33805\n",
      "--- 500 / 2000 ---\n"
     ]
    },
    {
     "name": "stderr",
     "output_type": "stream",
     "text": [
      "Generating embeddings: 100%|██████████| 100/100 [00:19<00:00,  5.01it/s]\n",
      "Inserting data into math_questions: 100%|██████████| 100/100 [00:00<00:00, 27654.14it/s]\n"
     ]
    },
    {
     "name": "stdout",
     "output_type": "stream",
     "text": [
      "Collection 'math_questions' size: count=33905\n",
      "--- 600 / 2000 ---\n"
     ]
    },
    {
     "name": "stderr",
     "output_type": "stream",
     "text": [
      "Generating embeddings: 100%|██████████| 100/100 [00:20<00:00,  4.83it/s]\n",
      "Inserting data into math_questions: 100%|██████████| 100/100 [00:00<00:00, 37526.21it/s]\n"
     ]
    },
    {
     "name": "stdout",
     "output_type": "stream",
     "text": [
      "Collection 'math_questions' size: count=34005\n",
      "--- 700 / 2000 ---\n"
     ]
    },
    {
     "name": "stderr",
     "output_type": "stream",
     "text": [
      "Generating embeddings: 100%|██████████| 100/100 [00:21<00:00,  4.69it/s]\n",
      "Inserting data into math_questions: 100%|██████████| 100/100 [00:00<00:00, 46294.75it/s]\n"
     ]
    },
    {
     "name": "stdout",
     "output_type": "stream",
     "text": [
      "Collection 'math_questions' size: count=34105\n",
      "--- 800 / 2000 ---\n"
     ]
    },
    {
     "name": "stderr",
     "output_type": "stream",
     "text": [
      "Generating embeddings: 100%|██████████| 100/100 [00:20<00:00,  4.84it/s]\n",
      "Inserting data into math_questions: 100%|██████████| 100/100 [00:00<00:00, 48686.06it/s]\n"
     ]
    },
    {
     "name": "stdout",
     "output_type": "stream",
     "text": [
      "Collection 'math_questions' size: count=34205\n",
      "--- 900 / 2000 ---\n"
     ]
    },
    {
     "name": "stderr",
     "output_type": "stream",
     "text": [
      "Generating embeddings: 100%|██████████| 100/100 [00:20<00:00,  4.79it/s]\n",
      "Inserting data into math_questions: 100%|██████████| 100/100 [00:00<00:00, 11479.92it/s]\n"
     ]
    },
    {
     "name": "stdout",
     "output_type": "stream",
     "text": [
      "Collection 'math_questions' size: count=34305\n",
      "--- 1000 / 2000 ---\n"
     ]
    },
    {
     "name": "stderr",
     "output_type": "stream",
     "text": [
      "Generating embeddings: 100%|██████████| 100/100 [00:21<00:00,  4.74it/s]\n",
      "Inserting data into math_questions: 100%|██████████| 100/100 [00:00<00:00, 34876.97it/s]\n"
     ]
    },
    {
     "name": "stdout",
     "output_type": "stream",
     "text": [
      "Collection 'math_questions' size: count=34405\n",
      "--- 1100 / 2000 ---\n"
     ]
    },
    {
     "name": "stderr",
     "output_type": "stream",
     "text": [
      "Generating embeddings: 100%|██████████| 100/100 [00:20<00:00,  4.79it/s]\n",
      "Inserting data into math_questions: 100%|██████████| 100/100 [00:00<00:00, 26983.43it/s]\n"
     ]
    },
    {
     "name": "stdout",
     "output_type": "stream",
     "text": [
      "Collection 'math_questions' size: count=34505\n",
      "--- 1200 / 2000 ---\n"
     ]
    },
    {
     "name": "stderr",
     "output_type": "stream",
     "text": [
      "Generating embeddings: 100%|██████████| 100/100 [00:20<00:00,  4.95it/s]\n",
      "Inserting data into math_questions: 100%|██████████| 100/100 [00:00<00:00, 43859.71it/s]\n"
     ]
    },
    {
     "name": "stdout",
     "output_type": "stream",
     "text": [
      "Collection 'math_questions' size: count=34605\n",
      "--- 1300 / 2000 ---\n"
     ]
    },
    {
     "name": "stderr",
     "output_type": "stream",
     "text": [
      "Generating embeddings: 100%|██████████| 100/100 [00:20<00:00,  4.78it/s]\n",
      "Inserting data into math_questions: 100%|██████████| 100/100 [00:00<00:00, 47211.89it/s]\n"
     ]
    },
    {
     "name": "stdout",
     "output_type": "stream",
     "text": [
      "Collection 'math_questions' size: count=34705\n",
      "--- 1400 / 2000 ---\n"
     ]
    },
    {
     "name": "stderr",
     "output_type": "stream",
     "text": [
      "Generating embeddings: 100%|██████████| 100/100 [00:21<00:00,  4.75it/s]\n",
      "Inserting data into math_questions: 100%|██████████| 100/100 [00:00<00:00, 38832.55it/s]\n"
     ]
    },
    {
     "name": "stdout",
     "output_type": "stream",
     "text": [
      "Collection 'math_questions' size: count=34805\n",
      "--- 1500 / 2000 ---\n"
     ]
    },
    {
     "name": "stderr",
     "output_type": "stream",
     "text": [
      "Generating embeddings: 100%|██████████| 100/100 [00:23<00:00,  4.33it/s]\n",
      "Inserting data into math_questions: 100%|██████████| 100/100 [00:00<00:00, 11011.85it/s]\n"
     ]
    },
    {
     "name": "stdout",
     "output_type": "stream",
     "text": [
      "Collection 'math_questions' size: count=34905\n",
      "--- 1600 / 2000 ---\n"
     ]
    },
    {
     "name": "stderr",
     "output_type": "stream",
     "text": [
      "Generating embeddings: 100%|██████████| 100/100 [00:20<00:00,  4.92it/s]\n",
      "Inserting data into math_questions: 100%|██████████| 100/100 [00:00<00:00, 11675.49it/s]\n"
     ]
    },
    {
     "name": "stdout",
     "output_type": "stream",
     "text": [
      "Collection 'math_questions' size: count=35005\n",
      "--- 1700 / 2000 ---\n"
     ]
    },
    {
     "name": "stderr",
     "output_type": "stream",
     "text": [
      "Generating embeddings: 100%|██████████| 100/100 [00:20<00:00,  4.91it/s]\n",
      "Inserting data into math_questions: 100%|██████████| 100/100 [00:00<00:00, 14621.94it/s]\n"
     ]
    },
    {
     "name": "stdout",
     "output_type": "stream",
     "text": [
      "Collection 'math_questions' size: count=35105\n",
      "--- 1800 / 2000 ---\n"
     ]
    },
    {
     "name": "stderr",
     "output_type": "stream",
     "text": [
      "Generating embeddings: 100%|██████████| 100/100 [00:20<00:00,  4.77it/s]\n",
      "Inserting data into math_questions: 100%|██████████| 100/100 [00:00<00:00, 13906.38it/s]\n"
     ]
    },
    {
     "name": "stdout",
     "output_type": "stream",
     "text": [
      "Collection 'math_questions' size: count=35205\n",
      "--- 1900 / 2000 ---\n"
     ]
    },
    {
     "name": "stderr",
     "output_type": "stream",
     "text": [
      "Generating embeddings: 100%|██████████| 100/100 [00:22<00:00,  4.38it/s]\n",
      "Inserting data into math_questions: 100%|██████████| 100/100 [00:00<00:00, 41630.81it/s]\n"
     ]
    },
    {
     "name": "stdout",
     "output_type": "stream",
     "text": [
      "Collection 'math_questions' size: count=35305\n",
      "Processing polynomials__expand_full.csv...\n",
      "--- 0 / 2000 ---\n"
     ]
    },
    {
     "name": "stderr",
     "output_type": "stream",
     "text": [
      "Generating embeddings: 100%|██████████| 100/100 [00:20<00:00,  4.90it/s]\n",
      "Inserting data into math_questions: 100%|██████████| 100/100 [00:00<00:00, 8392.80it/s]\n"
     ]
    },
    {
     "name": "stdout",
     "output_type": "stream",
     "text": [
      "Collection 'math_questions' size: count=35405\n",
      "--- 100 / 2000 ---\n"
     ]
    },
    {
     "name": "stderr",
     "output_type": "stream",
     "text": [
      "Generating embeddings: 100%|██████████| 100/100 [00:26<00:00,  3.81it/s]\n",
      "Inserting data into math_questions: 100%|██████████| 100/100 [00:00<00:00, 34649.35it/s]\n"
     ]
    },
    {
     "name": "stdout",
     "output_type": "stream",
     "text": [
      "Collection 'math_questions' size: count=35505\n",
      "--- 200 / 2000 ---\n"
     ]
    },
    {
     "name": "stderr",
     "output_type": "stream",
     "text": [
      "Generating embeddings: 100%|██████████| 100/100 [00:22<00:00,  4.38it/s]\n",
      "Inserting data into math_questions: 100%|██████████| 100/100 [00:00<00:00, 46448.55it/s]\n"
     ]
    },
    {
     "name": "stdout",
     "output_type": "stream",
     "text": [
      "Collection 'math_questions' size: count=35605\n",
      "--- 300 / 2000 ---\n"
     ]
    },
    {
     "name": "stderr",
     "output_type": "stream",
     "text": [
      "Generating embeddings: 100%|██████████| 100/100 [00:21<00:00,  4.65it/s]\n",
      "Inserting data into math_questions: 100%|██████████| 100/100 [00:00<00:00, 15913.43it/s]\n"
     ]
    },
    {
     "name": "stdout",
     "output_type": "stream",
     "text": [
      "Collection 'math_questions' size: count=35705\n",
      "--- 400 / 2000 ---\n"
     ]
    },
    {
     "name": "stderr",
     "output_type": "stream",
     "text": [
      "Generating embeddings: 100%|██████████| 100/100 [00:21<00:00,  4.56it/s]\n",
      "Inserting data into math_questions: 100%|██████████| 100/100 [00:00<00:00, 16485.10it/s]\n"
     ]
    },
    {
     "name": "stdout",
     "output_type": "stream",
     "text": [
      "Collection 'math_questions' size: count=35805\n",
      "--- 500 / 2000 ---\n"
     ]
    },
    {
     "name": "stderr",
     "output_type": "stream",
     "text": [
      "Generating embeddings: 100%|██████████| 100/100 [00:20<00:00,  4.79it/s]\n",
      "Inserting data into math_questions: 100%|██████████| 100/100 [00:00<00:00, 16375.04it/s]\n"
     ]
    },
    {
     "name": "stdout",
     "output_type": "stream",
     "text": [
      "Collection 'math_questions' size: count=35905\n",
      "--- 600 / 2000 ---\n"
     ]
    },
    {
     "name": "stderr",
     "output_type": "stream",
     "text": [
      "Generating embeddings: 100%|██████████| 100/100 [00:20<00:00,  4.95it/s]\n",
      "Inserting data into math_questions: 100%|██████████| 100/100 [00:00<00:00, 30497.38it/s]\n"
     ]
    },
    {
     "name": "stdout",
     "output_type": "stream",
     "text": [
      "Collection 'math_questions' size: count=36005\n",
      "--- 700 / 2000 ---\n"
     ]
    },
    {
     "name": "stderr",
     "output_type": "stream",
     "text": [
      "Generating embeddings: 100%|██████████| 100/100 [00:21<00:00,  4.69it/s]\n",
      "Inserting data into math_questions: 100%|██████████| 100/100 [00:00<00:00, 16929.58it/s]\n"
     ]
    },
    {
     "name": "stdout",
     "output_type": "stream",
     "text": [
      "Collection 'math_questions' size: count=36105\n",
      "--- 800 / 2000 ---\n"
     ]
    },
    {
     "name": "stderr",
     "output_type": "stream",
     "text": [
      "Generating embeddings: 100%|██████████| 100/100 [00:19<00:00,  5.07it/s]\n",
      "Inserting data into math_questions: 100%|██████████| 100/100 [00:00<00:00, 16526.67it/s]\n"
     ]
    },
    {
     "name": "stdout",
     "output_type": "stream",
     "text": [
      "Collection 'math_questions' size: count=36205\n",
      "--- 900 / 2000 ---\n"
     ]
    },
    {
     "name": "stderr",
     "output_type": "stream",
     "text": [
      "Generating embeddings: 100%|██████████| 100/100 [00:22<00:00,  4.52it/s]\n",
      "Inserting data into math_questions: 100%|██████████| 100/100 [00:00<00:00, 24765.61it/s]\n"
     ]
    },
    {
     "name": "stdout",
     "output_type": "stream",
     "text": [
      "Collection 'math_questions' size: count=36305\n",
      "--- 1000 / 2000 ---\n"
     ]
    },
    {
     "name": "stderr",
     "output_type": "stream",
     "text": [
      "Generating embeddings: 100%|██████████| 100/100 [00:20<00:00,  4.90it/s]\n",
      "Inserting data into math_questions: 100%|██████████| 100/100 [00:00<00:00, 33600.13it/s]\n"
     ]
    },
    {
     "name": "stdout",
     "output_type": "stream",
     "text": [
      "Collection 'math_questions' size: count=36405\n",
      "--- 1100 / 2000 ---\n"
     ]
    },
    {
     "name": "stderr",
     "output_type": "stream",
     "text": [
      "Generating embeddings: 100%|██████████| 100/100 [00:21<00:00,  4.57it/s]\n",
      "Inserting data into math_questions: 100%|██████████| 100/100 [00:00<00:00, 35638.58it/s]\n"
     ]
    },
    {
     "name": "stdout",
     "output_type": "stream",
     "text": [
      "Collection 'math_questions' size: count=36505\n",
      "--- 1200 / 2000 ---\n"
     ]
    },
    {
     "name": "stderr",
     "output_type": "stream",
     "text": [
      "Generating embeddings: 100%|██████████| 100/100 [00:19<00:00,  5.08it/s]\n",
      "Inserting data into math_questions: 100%|██████████| 100/100 [00:00<00:00, 26519.37it/s]\n"
     ]
    },
    {
     "name": "stdout",
     "output_type": "stream",
     "text": [
      "Collection 'math_questions' size: count=36605\n",
      "--- 1300 / 2000 ---\n"
     ]
    },
    {
     "name": "stderr",
     "output_type": "stream",
     "text": [
      "Generating embeddings: 100%|██████████| 100/100 [00:19<00:00,  5.09it/s]\n",
      "Inserting data into math_questions: 100%|██████████| 100/100 [00:00<00:00, 35677.99it/s]\n"
     ]
    },
    {
     "name": "stdout",
     "output_type": "stream",
     "text": [
      "Collection 'math_questions' size: count=36705\n",
      "--- 1400 / 2000 ---\n"
     ]
    },
    {
     "name": "stderr",
     "output_type": "stream",
     "text": [
      "Generating embeddings: 100%|██████████| 100/100 [00:20<00:00,  4.97it/s]\n",
      "Inserting data into math_questions: 100%|██████████| 100/100 [00:00<00:00, 14285.29it/s]\n"
     ]
    },
    {
     "name": "stdout",
     "output_type": "stream",
     "text": [
      "Collection 'math_questions' size: count=36805\n",
      "--- 1500 / 2000 ---\n"
     ]
    },
    {
     "name": "stderr",
     "output_type": "stream",
     "text": [
      "Generating embeddings: 100%|██████████| 100/100 [00:20<00:00,  4.95it/s]\n",
      "Inserting data into math_questions: 100%|██████████| 100/100 [00:00<00:00, 42917.26it/s]\n"
     ]
    },
    {
     "name": "stdout",
     "output_type": "stream",
     "text": [
      "Collection 'math_questions' size: count=36905\n",
      "--- 1600 / 2000 ---\n"
     ]
    },
    {
     "name": "stderr",
     "output_type": "stream",
     "text": [
      "Generating embeddings: 100%|██████████| 100/100 [00:24<00:00,  4.15it/s]\n",
      "Inserting data into math_questions: 100%|██████████| 100/100 [00:00<00:00, 20370.59it/s]\n"
     ]
    },
    {
     "name": "stdout",
     "output_type": "stream",
     "text": [
      "Collection 'math_questions' size: count=37005\n",
      "--- 1700 / 2000 ---\n"
     ]
    },
    {
     "name": "stderr",
     "output_type": "stream",
     "text": [
      "Generating embeddings: 100%|██████████| 100/100 [00:20<00:00,  4.77it/s]\n",
      "Inserting data into math_questions: 100%|██████████| 100/100 [00:00<00:00, 39587.58it/s]\n"
     ]
    },
    {
     "name": "stdout",
     "output_type": "stream",
     "text": [
      "Collection 'math_questions' size: count=37105\n",
      "--- 1800 / 2000 ---\n"
     ]
    },
    {
     "name": "stderr",
     "output_type": "stream",
     "text": [
      "Generating embeddings: 100%|██████████| 100/100 [00:21<00:00,  4.76it/s]\n",
      "Inserting data into math_questions: 100%|██████████| 100/100 [00:00<00:00, 32164.91it/s]\n"
     ]
    },
    {
     "name": "stdout",
     "output_type": "stream",
     "text": [
      "Collection 'math_questions' size: count=37205\n",
      "--- 1900 / 2000 ---\n"
     ]
    },
    {
     "name": "stderr",
     "output_type": "stream",
     "text": [
      "Generating embeddings: 100%|██████████| 100/100 [00:21<00:00,  4.75it/s]\n",
      "Inserting data into math_questions: 100%|██████████| 100/100 [00:00<00:00, 43482.31it/s]\n"
     ]
    },
    {
     "name": "stdout",
     "output_type": "stream",
     "text": [
      "Collection 'math_questions' size: count=37305\n",
      "Processing arithmetic__mul_full.csv...\n",
      "--- 0 / 2000 ---\n"
     ]
    },
    {
     "name": "stderr",
     "output_type": "stream",
     "text": [
      "Generating embeddings: 100%|██████████| 100/100 [00:23<00:00,  4.18it/s]\n",
      "Inserting data into math_questions: 100%|██████████| 100/100 [00:00<00:00, 18825.42it/s]\n"
     ]
    },
    {
     "name": "stdout",
     "output_type": "stream",
     "text": [
      "Collection 'math_questions' size: count=37405\n",
      "--- 100 / 2000 ---\n"
     ]
    },
    {
     "name": "stderr",
     "output_type": "stream",
     "text": [
      "Generating embeddings: 100%|██████████| 100/100 [00:20<00:00,  4.87it/s]\n",
      "Inserting data into math_questions: 100%|██████████| 100/100 [00:00<00:00, 11672.57it/s]\n"
     ]
    },
    {
     "name": "stdout",
     "output_type": "stream",
     "text": [
      "Collection 'math_questions' size: count=37505\n",
      "--- 200 / 2000 ---\n"
     ]
    },
    {
     "name": "stderr",
     "output_type": "stream",
     "text": [
      "Generating embeddings: 100%|██████████| 100/100 [00:21<00:00,  4.72it/s]\n",
      "Inserting data into math_questions: 100%|██████████| 100/100 [00:00<00:00, 25051.09it/s]\n"
     ]
    },
    {
     "name": "stdout",
     "output_type": "stream",
     "text": [
      "Collection 'math_questions' size: count=37605\n",
      "--- 300 / 2000 ---\n"
     ]
    },
    {
     "name": "stderr",
     "output_type": "stream",
     "text": [
      "Generating embeddings: 100%|██████████| 100/100 [00:20<00:00,  4.93it/s]\n",
      "Inserting data into math_questions: 100%|██████████| 100/100 [00:00<00:00, 30561.82it/s]\n"
     ]
    },
    {
     "name": "stdout",
     "output_type": "stream",
     "text": [
      "Collection 'math_questions' size: count=37705\n",
      "--- 400 / 2000 ---\n"
     ]
    },
    {
     "name": "stderr",
     "output_type": "stream",
     "text": [
      "Generating embeddings: 100%|██████████| 100/100 [00:19<00:00,  5.04it/s]\n",
      "Inserting data into math_questions: 100%|██████████| 100/100 [00:00<00:00, 26184.94it/s]\n"
     ]
    },
    {
     "name": "stdout",
     "output_type": "stream",
     "text": [
      "Collection 'math_questions' size: count=37805\n",
      "--- 500 / 2000 ---\n"
     ]
    },
    {
     "name": "stderr",
     "output_type": "stream",
     "text": [
      "Generating embeddings: 100%|██████████| 100/100 [00:19<00:00,  5.03it/s]\n",
      "Inserting data into math_questions: 100%|██████████| 100/100 [00:00<00:00, 35487.81it/s]\n"
     ]
    },
    {
     "name": "stdout",
     "output_type": "stream",
     "text": [
      "Collection 'math_questions' size: count=37905\n",
      "--- 600 / 2000 ---\n"
     ]
    },
    {
     "name": "stderr",
     "output_type": "stream",
     "text": [
      "Generating embeddings: 100%|██████████| 100/100 [00:23<00:00,  4.20it/s]\n",
      "Inserting data into math_questions: 100%|██████████| 100/100 [00:00<00:00, 41152.90it/s]\n"
     ]
    },
    {
     "name": "stdout",
     "output_type": "stream",
     "text": [
      "Collection 'math_questions' size: count=38005\n",
      "--- 700 / 2000 ---\n"
     ]
    },
    {
     "name": "stderr",
     "output_type": "stream",
     "text": [
      "Generating embeddings: 100%|██████████| 100/100 [00:21<00:00,  4.62it/s]\n",
      "Inserting data into math_questions: 100%|██████████| 100/100 [00:00<00:00, 13583.03it/s]\n"
     ]
    },
    {
     "name": "stdout",
     "output_type": "stream",
     "text": [
      "Collection 'math_questions' size: count=38105\n",
      "--- 800 / 2000 ---\n"
     ]
    },
    {
     "name": "stderr",
     "output_type": "stream",
     "text": [
      "Generating embeddings: 100%|██████████| 100/100 [00:20<00:00,  4.82it/s]\n",
      "Inserting data into math_questions: 100%|██████████| 100/100 [00:00<00:00, 47662.55it/s]\n"
     ]
    },
    {
     "name": "stdout",
     "output_type": "stream",
     "text": [
      "Collection 'math_questions' size: count=38205\n",
      "--- 900 / 2000 ---\n"
     ]
    },
    {
     "name": "stderr",
     "output_type": "stream",
     "text": [
      "Generating embeddings: 100%|██████████| 100/100 [00:22<00:00,  4.53it/s]\n",
      "Inserting data into math_questions: 100%|██████████| 100/100 [00:00<00:00, 39498.11it/s]\n"
     ]
    },
    {
     "name": "stdout",
     "output_type": "stream",
     "text": [
      "Collection 'math_questions' size: count=38305\n",
      "--- 1000 / 2000 ---\n"
     ]
    },
    {
     "name": "stderr",
     "output_type": "stream",
     "text": [
      "Generating embeddings: 100%|██████████| 100/100 [00:24<00:00,  4.02it/s]\n",
      "Inserting data into math_questions: 100%|██████████| 100/100 [00:00<00:00, 35066.50it/s]\n"
     ]
    },
    {
     "name": "stdout",
     "output_type": "stream",
     "text": [
      "Collection 'math_questions' size: count=38405\n",
      "--- 1100 / 2000 ---\n"
     ]
    },
    {
     "name": "stderr",
     "output_type": "stream",
     "text": [
      "Generating embeddings: 100%|██████████| 100/100 [00:24<00:00,  4.13it/s]\n",
      "Inserting data into math_questions: 100%|██████████| 100/100 [00:00<00:00, 32468.68it/s]\n"
     ]
    },
    {
     "name": "stdout",
     "output_type": "stream",
     "text": [
      "Collection 'math_questions' size: count=38505\n",
      "--- 1200 / 2000 ---\n"
     ]
    },
    {
     "name": "stderr",
     "output_type": "stream",
     "text": [
      "Generating embeddings: 100%|██████████| 100/100 [00:21<00:00,  4.75it/s]\n",
      "Inserting data into math_questions: 100%|██████████| 100/100 [00:00<00:00, 38462.21it/s]\n"
     ]
    },
    {
     "name": "stdout",
     "output_type": "stream",
     "text": [
      "Collection 'math_questions' size: count=38605\n",
      "--- 1300 / 2000 ---\n"
     ]
    },
    {
     "name": "stderr",
     "output_type": "stream",
     "text": [
      "Generating embeddings: 100%|██████████| 100/100 [00:20<00:00,  4.76it/s]\n",
      "Inserting data into math_questions: 100%|██████████| 100/100 [00:00<00:00, 9232.66it/s]\n"
     ]
    },
    {
     "name": "stdout",
     "output_type": "stream",
     "text": [
      "Collection 'math_questions' size: count=38705\n",
      "--- 1400 / 2000 ---\n"
     ]
    },
    {
     "name": "stderr",
     "output_type": "stream",
     "text": [
      "Generating embeddings: 100%|██████████| 100/100 [00:20<00:00,  4.90it/s]\n",
      "Inserting data into math_questions: 100%|██████████| 100/100 [00:00<00:00, 12878.21it/s]\n"
     ]
    },
    {
     "name": "stdout",
     "output_type": "stream",
     "text": [
      "Collection 'math_questions' size: count=38805\n",
      "--- 1500 / 2000 ---\n"
     ]
    },
    {
     "name": "stderr",
     "output_type": "stream",
     "text": [
      "Generating embeddings: 100%|██████████| 100/100 [00:22<00:00,  4.45it/s]\n",
      "Inserting data into math_questions: 100%|██████████| 100/100 [00:00<00:00, 9241.40it/s]\n"
     ]
    },
    {
     "name": "stdout",
     "output_type": "stream",
     "text": [
      "Collection 'math_questions' size: count=38905\n",
      "--- 1600 / 2000 ---\n"
     ]
    },
    {
     "name": "stderr",
     "output_type": "stream",
     "text": [
      "Generating embeddings: 100%|██████████| 100/100 [00:20<00:00,  4.91it/s]\n",
      "Inserting data into math_questions: 100%|██████████| 100/100 [00:00<00:00, 24401.09it/s]\n"
     ]
    },
    {
     "name": "stdout",
     "output_type": "stream",
     "text": [
      "Collection 'math_questions' size: count=39005\n",
      "--- 1700 / 2000 ---\n"
     ]
    },
    {
     "name": "stderr",
     "output_type": "stream",
     "text": [
      "Generating embeddings: 100%|██████████| 100/100 [00:19<00:00,  5.06it/s]\n",
      "Inserting data into math_questions: 100%|██████████| 100/100 [00:00<00:00, 23397.88it/s]\n"
     ]
    },
    {
     "name": "stdout",
     "output_type": "stream",
     "text": [
      "Collection 'math_questions' size: count=39105\n",
      "--- 1800 / 2000 ---\n"
     ]
    },
    {
     "name": "stderr",
     "output_type": "stream",
     "text": [
      "Generating embeddings: 100%|██████████| 100/100 [00:21<00:00,  4.68it/s]\n",
      "Inserting data into math_questions: 100%|██████████| 100/100 [00:00<00:00, 37022.72it/s]\n"
     ]
    },
    {
     "name": "stdout",
     "output_type": "stream",
     "text": [
      "Collection 'math_questions' size: count=39205\n",
      "--- 1900 / 2000 ---\n"
     ]
    },
    {
     "name": "stderr",
     "output_type": "stream",
     "text": [
      "Generating embeddings: 100%|██████████| 100/100 [00:19<00:00,  5.06it/s]\n",
      "Inserting data into math_questions: 100%|██████████| 100/100 [00:00<00:00, 15576.57it/s]\n"
     ]
    },
    {
     "name": "stdout",
     "output_type": "stream",
     "text": [
      "Collection 'math_questions' size: count=39305\n",
      "Processing calculus__differentiate_full.csv...\n",
      "--- 0 / 2000 ---\n"
     ]
    },
    {
     "name": "stderr",
     "output_type": "stream",
     "text": [
      "Generating embeddings: 100%|██████████| 100/100 [00:21<00:00,  4.70it/s]\n",
      "Inserting data into math_questions: 100%|██████████| 100/100 [00:00<00:00, 29585.27it/s]\n"
     ]
    },
    {
     "name": "stdout",
     "output_type": "stream",
     "text": [
      "Collection 'math_questions' size: count=39405\n",
      "--- 100 / 2000 ---\n"
     ]
    },
    {
     "name": "stderr",
     "output_type": "stream",
     "text": [
      "Generating embeddings: 100%|██████████| 100/100 [00:24<00:00,  4.15it/s]\n",
      "Inserting data into math_questions: 100%|██████████| 100/100 [00:00<00:00, 41892.77it/s]\n"
     ]
    },
    {
     "name": "stdout",
     "output_type": "stream",
     "text": [
      "Collection 'math_questions' size: count=39505\n",
      "--- 200 / 2000 ---\n"
     ]
    },
    {
     "name": "stderr",
     "output_type": "stream",
     "text": [
      "Generating embeddings: 100%|██████████| 100/100 [00:21<00:00,  4.64it/s]\n",
      "Inserting data into math_questions: 100%|██████████| 100/100 [00:00<00:00, 16171.12it/s]\n"
     ]
    },
    {
     "name": "stdout",
     "output_type": "stream",
     "text": [
      "Collection 'math_questions' size: count=39605\n",
      "--- 300 / 2000 ---\n"
     ]
    },
    {
     "name": "stderr",
     "output_type": "stream",
     "text": [
      "Generating embeddings: 100%|██████████| 100/100 [00:22<00:00,  4.37it/s]\n",
      "Inserting data into math_questions: 100%|██████████| 100/100 [00:00<00:00, 12384.27it/s]\n"
     ]
    },
    {
     "name": "stdout",
     "output_type": "stream",
     "text": [
      "Collection 'math_questions' size: count=39705\n",
      "--- 400 / 2000 ---\n"
     ]
    },
    {
     "name": "stderr",
     "output_type": "stream",
     "text": [
      "Generating embeddings: 100%|██████████| 100/100 [00:20<00:00,  4.77it/s]\n",
      "Inserting data into math_questions: 100%|██████████| 100/100 [00:00<00:00, 7817.32it/s]\n"
     ]
    },
    {
     "name": "stdout",
     "output_type": "stream",
     "text": [
      "Collection 'math_questions' size: count=39805\n",
      "--- 500 / 2000 ---\n"
     ]
    },
    {
     "name": "stderr",
     "output_type": "stream",
     "text": [
      "Generating embeddings: 100%|██████████| 100/100 [00:21<00:00,  4.61it/s]\n",
      "Inserting data into math_questions: 100%|██████████| 100/100 [00:00<00:00, 7794.22it/s]\n"
     ]
    },
    {
     "name": "stdout",
     "output_type": "stream",
     "text": [
      "Collection 'math_questions' size: count=39905\n",
      "--- 600 / 2000 ---\n"
     ]
    },
    {
     "name": "stderr",
     "output_type": "stream",
     "text": [
      "Generating embeddings: 100%|██████████| 100/100 [00:19<00:00,  5.13it/s]\n",
      "Inserting data into math_questions: 100%|██████████| 100/100 [00:00<00:00, 30185.71it/s]\n"
     ]
    },
    {
     "name": "stdout",
     "output_type": "stream",
     "text": [
      "Collection 'math_questions' size: count=40005\n",
      "--- 700 / 2000 ---\n"
     ]
    },
    {
     "name": "stderr",
     "output_type": "stream",
     "text": [
      "Generating embeddings: 100%|██████████| 100/100 [00:20<00:00,  4.93it/s]\n",
      "Inserting data into math_questions: 100%|██████████| 100/100 [00:00<00:00, 30488.51it/s]\n"
     ]
    },
    {
     "name": "stdout",
     "output_type": "stream",
     "text": [
      "Collection 'math_questions' size: count=40105\n",
      "--- 800 / 2000 ---\n"
     ]
    },
    {
     "name": "stderr",
     "output_type": "stream",
     "text": [
      "Generating embeddings: 100%|██████████| 100/100 [00:20<00:00,  4.78it/s]\n",
      "Inserting data into math_questions: 100%|██████████| 100/100 [00:00<00:00, 13128.53it/s]\n"
     ]
    },
    {
     "name": "stdout",
     "output_type": "stream",
     "text": [
      "Collection 'math_questions' size: count=40205\n",
      "--- 900 / 2000 ---\n"
     ]
    },
    {
     "name": "stderr",
     "output_type": "stream",
     "text": [
      "Generating embeddings: 100%|██████████| 100/100 [00:20<00:00,  4.79it/s]\n",
      "Inserting data into math_questions: 100%|██████████| 100/100 [00:00<00:00, 4275.36it/s]\n"
     ]
    },
    {
     "name": "stdout",
     "output_type": "stream",
     "text": [
      "Collection 'math_questions' size: count=40305\n",
      "--- 1000 / 2000 ---\n"
     ]
    },
    {
     "name": "stderr",
     "output_type": "stream",
     "text": [
      "Generating embeddings: 100%|██████████| 100/100 [00:24<00:00,  4.13it/s]\n",
      "Inserting data into math_questions: 100%|██████████| 100/100 [00:00<00:00, 32446.07it/s]\n"
     ]
    },
    {
     "name": "stdout",
     "output_type": "stream",
     "text": [
      "Collection 'math_questions' size: count=40405\n",
      "--- 1100 / 2000 ---\n"
     ]
    },
    {
     "name": "stderr",
     "output_type": "stream",
     "text": [
      "Generating embeddings: 100%|██████████| 100/100 [00:22<00:00,  4.38it/s]\n",
      "Inserting data into math_questions: 100%|██████████| 100/100 [00:00<00:00, 42794.65it/s]\n"
     ]
    },
    {
     "name": "stdout",
     "output_type": "stream",
     "text": [
      "Collection 'math_questions' size: count=40505\n",
      "--- 1200 / 2000 ---\n"
     ]
    },
    {
     "name": "stderr",
     "output_type": "stream",
     "text": [
      "Generating embeddings: 100%|██████████| 100/100 [00:19<00:00,  5.12it/s]\n",
      "Inserting data into math_questions: 100%|██████████| 100/100 [00:00<00:00, 37299.28it/s]\n"
     ]
    },
    {
     "name": "stdout",
     "output_type": "stream",
     "text": [
      "Collection 'math_questions' size: count=40605\n",
      "--- 1300 / 2000 ---\n"
     ]
    },
    {
     "name": "stderr",
     "output_type": "stream",
     "text": [
      "Generating embeddings: 100%|██████████| 100/100 [00:19<00:00,  5.08it/s]\n",
      "Inserting data into math_questions: 100%|██████████| 100/100 [00:00<00:00, 34932.16it/s]\n"
     ]
    },
    {
     "name": "stdout",
     "output_type": "stream",
     "text": [
      "Collection 'math_questions' size: count=40705\n",
      "--- 1400 / 2000 ---\n"
     ]
    },
    {
     "name": "stderr",
     "output_type": "stream",
     "text": [
      "Generating embeddings: 100%|██████████| 100/100 [00:20<00:00,  4.79it/s]\n",
      "Inserting data into math_questions: 100%|██████████| 100/100 [00:00<00:00, 11877.84it/s]\n"
     ]
    },
    {
     "name": "stdout",
     "output_type": "stream",
     "text": [
      "Collection 'math_questions' size: count=40805\n",
      "--- 1500 / 2000 ---\n"
     ]
    },
    {
     "name": "stderr",
     "output_type": "stream",
     "text": [
      "Generating embeddings: 100%|██████████| 100/100 [00:20<00:00,  4.96it/s]\n",
      "Inserting data into math_questions: 100%|██████████| 100/100 [00:00<00:00, 35599.25it/s]\n"
     ]
    },
    {
     "name": "stdout",
     "output_type": "stream",
     "text": [
      "Collection 'math_questions' size: count=40905\n",
      "--- 1600 / 2000 ---\n"
     ]
    },
    {
     "name": "stderr",
     "output_type": "stream",
     "text": [
      "Generating embeddings: 100%|██████████| 100/100 [00:20<00:00,  4.82it/s]\n",
      "Inserting data into math_questions: 100%|██████████| 100/100 [00:00<00:00, 37499.37it/s]\n"
     ]
    },
    {
     "name": "stdout",
     "output_type": "stream",
     "text": [
      "Collection 'math_questions' size: count=41005\n",
      "--- 1700 / 2000 ---\n"
     ]
    },
    {
     "name": "stderr",
     "output_type": "stream",
     "text": [
      "Generating embeddings: 100%|██████████| 100/100 [00:20<00:00,  4.93it/s]\n",
      "Inserting data into math_questions: 100%|██████████| 100/100 [00:00<00:00, 32321.06it/s]\n"
     ]
    },
    {
     "name": "stdout",
     "output_type": "stream",
     "text": [
      "Collection 'math_questions' size: count=41105\n",
      "--- 1800 / 2000 ---\n"
     ]
    },
    {
     "name": "stderr",
     "output_type": "stream",
     "text": [
      "Generating embeddings: 100%|██████████| 100/100 [00:21<00:00,  4.58it/s]\n",
      "Inserting data into math_questions: 100%|██████████| 100/100 [00:00<00:00, 17605.37it/s]\n"
     ]
    },
    {
     "name": "stdout",
     "output_type": "stream",
     "text": [
      "Collection 'math_questions' size: count=41205\n",
      "--- 1900 / 2000 ---\n"
     ]
    },
    {
     "name": "stderr",
     "output_type": "stream",
     "text": [
      "Generating embeddings: 100%|██████████| 100/100 [00:20<00:00,  4.98it/s]\n",
      "Inserting data into math_questions: 100%|██████████| 100/100 [00:00<00:00, 17421.82it/s]\n"
     ]
    },
    {
     "name": "stdout",
     "output_type": "stream",
     "text": [
      "Collection 'math_questions' size: count=41305\n",
      "Processing arithmetic__add_or_sub_full.csv...\n",
      "--- 0 / 2000 ---\n"
     ]
    },
    {
     "name": "stderr",
     "output_type": "stream",
     "text": [
      "Generating embeddings: 100%|██████████| 100/100 [00:21<00:00,  4.64it/s]\n",
      "Inserting data into math_questions: 100%|██████████| 100/100 [00:00<00:00, 11507.64it/s]\n"
     ]
    },
    {
     "name": "stdout",
     "output_type": "stream",
     "text": [
      "Collection 'math_questions' size: count=41405\n",
      "--- 100 / 2000 ---\n"
     ]
    },
    {
     "name": "stderr",
     "output_type": "stream",
     "text": [
      "Generating embeddings: 100%|██████████| 100/100 [00:23<00:00,  4.27it/s]\n",
      "Inserting data into math_questions: 100%|██████████| 100/100 [00:00<00:00, 35738.79it/s]\n"
     ]
    },
    {
     "name": "stdout",
     "output_type": "stream",
     "text": [
      "Collection 'math_questions' size: count=41505\n",
      "--- 200 / 2000 ---\n"
     ]
    },
    {
     "name": "stderr",
     "output_type": "stream",
     "text": [
      "Generating embeddings: 100%|██████████| 100/100 [00:23<00:00,  4.33it/s]\n",
      "Inserting data into math_questions: 100%|██████████| 100/100 [00:00<00:00, 48953.13it/s]\n"
     ]
    }
   ],
   "source": [
    "from src.utils.folders_utils import get_repo_folder\n",
    "import pandas as pd\n",
    "from pathlib import Path\n",
    "\n",
    "repo_folder = get_repo_folder()\n",
    "print(f\"Repository folder: {repo_folder}\")\n",
    "\n",
    "\n",
    "directory = Path(repo_folder / \"src/data/DB_questions/Math/math_dataset_csvs\")\n",
    "\n",
    "dfs = []\n",
    "\n",
    "# Loop through all CSV files\n",
    "for file_path in directory.glob(\"*.csv\"):\n",
    "    if \"algebra__linear_1d_full.csv\" in file_path.name or \"mini\" in file_path.name \\\n",
    "        or \"algebra__polynomial_roots_full\" in file_path.name:\n",
    "        continue\n",
    "    print(f\"Processing {file_path.name}...\")\n",
    "\n",
    "    df = pd.read_csv(file_path)[23000:25000]\n",
    "\n",
    "    df[\"question_description\"] = df.apply(lambda row: f\"Topic: {row['module']}\\nQuestion: {row['question']}\", axis=1)\n",
    "\n",
    "    index(df)"
   ]
  },
  {
   "cell_type": "code",
   "execution_count": null,
   "id": "6c3f031c",
   "metadata": {},
   "outputs": [],
   "source": [
    "dfs[0]\n"
   ]
  }
 ],
 "metadata": {
  "kernelspec": {
   "display_name": "private_teacher_agent",
   "language": "python",
   "name": "python3"
  },
  "language_info": {
   "codemirror_mode": {
    "name": "ipython",
    "version": 3
   },
   "file_extension": ".py",
   "mimetype": "text/x-python",
   "name": "python",
   "nbconvert_exporter": "python",
   "pygments_lexer": "ipython3",
   "version": "3.11.13"
  }
 },
 "nbformat": 4,
 "nbformat_minor": 5
}
