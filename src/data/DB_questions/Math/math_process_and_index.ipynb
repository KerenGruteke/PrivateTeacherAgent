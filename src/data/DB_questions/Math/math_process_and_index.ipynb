{
 "cells": [
  {
   "cell_type": "markdown",
   "id": "66c87b9bd93df381",
   "metadata": {},
   "source": [
    "# Index"
   ]
  },
  {
   "cell_type": "code",
   "execution_count": null,
   "id": "281c1ddce386cdb0",
   "metadata": {
    "ExecuteTime": {
     "end_time": "2025-08-14T06:28:57.707270Z",
     "start_time": "2025-08-14T06:28:57.686843Z"
    }
   },
   "outputs": [],
   "source": [
    "from src.data.index_and_search import index_df, get_db_object\n",
    "from loguru import logger\n",
    "\n",
    "# run in batches to avoid memory issues - index every 100 rows in the df\n",
    "def index(df_to_index, batch_size=100):\n",
    "    n = len(df_to_index)\n",
    "    for i in range(0, n, batch_size):\n",
    "        batch_df = df_to_index.iloc[i:i+batch_size]\n",
    "        print(f\"--- {i} / {n} ---\")\n",
    "        try:\n",
    "            index_df(\n",
    "                df=batch_df,\n",
    "                index_by_col=\"question_description\",\n",
    "                need_to_embed_col=True,\n",
    "                id_col=\"question_description\",\n",
    "                collection_name=\"math_questions\",\n",
    "            )\n",
    "        except Exception as e:\n",
    "            logger.error(f\"Error indexing batch starting at row {i}: {e}\")\n"
   ]
  },
  {
   "cell_type": "markdown",
   "id": "1eda4f0e",
   "metadata": {},
   "source": [
    "# Preprocess + Indexing - take first 20,000 rows from each math full dataset"
   ]
  },
  {
   "cell_type": "code",
   "execution_count": null,
   "id": "370e1975df5df4ee",
   "metadata": {
    "ExecuteTime": {
     "end_time": "2025-08-14T06:28:05.406016Z",
     "start_time": "2025-08-14T06:28:03.473058Z"
    }
   },
   "outputs": [],
   "source": [
    "db = get_db_object()\n",
    "db.print_example(\"math_questions\", 2)"
   ]
  },
  {
   "cell_type": "code",
   "execution_count": null,
   "id": "4b9e36702b98e84e",
   "metadata": {
    "ExecuteTime": {
     "end_time": "2025-08-14T06:30:20.796472Z",
     "start_time": "2025-08-14T06:28:59.838280Z"
    }
   },
   "outputs": [],
   "source": [
    "from src.utils.folders_utils import get_repo_folder\n",
    "import pandas as pd\n",
    "from pathlib import Path\n",
    "\n",
    "repo_folder = get_repo_folder()\n",
    "print(f\"Repository folder: {repo_folder}\")\n",
    "\n",
    "\n",
    "directory = Path(repo_folder / \"src/data/DB_questions/Math/math_dataset_csvs\")\n",
    "\n",
    "dfs = []\n",
    "\n",
    "# Loop through all CSV files\n",
    "for file_path in directory.glob(\"*.csv\"):\n",
    "    if \"algebra__linear_1d_full.csv\" in file_path.name or \"mini\" in file_path.name \\\n",
    "        or \"algebra__polynomial_roots_full\" in file_path.name:\n",
    "        continue\n",
    "    print(f\"Processing {file_path.name}...\")\n",
    "\n",
    "    df = pd.read_csv(file_path)[27000:28000]\n",
    "\n",
    "    df[\"question_description\"] = df.apply(lambda row: f\"Topic: {row['module']}\\nQuestion: {row['question']}\", axis=1)\n",
    "\n",
    "    index(df)"
   ]
  },
  {
   "cell_type": "code",
   "execution_count": null,
   "id": "6c3f031c",
   "metadata": {},
   "outputs": [],
   "source": [
    "dfs[0]\n"
   ]
  }
 ],
 "metadata": {
  "kernelspec": {
   "display_name": "private_teacher_agent",
   "language": "python",
   "name": "python3"
  },
  "language_info": {
   "codemirror_mode": {
    "name": "ipython",
    "version": 3
   },
   "file_extension": ".py",
   "mimetype": "text/x-python",
   "name": "python",
   "nbconvert_exporter": "python",
   "pygments_lexer": "ipython3",
   "version": "3.11.13"
  }
 },
 "nbformat": 4,
 "nbformat_minor": 5
}
