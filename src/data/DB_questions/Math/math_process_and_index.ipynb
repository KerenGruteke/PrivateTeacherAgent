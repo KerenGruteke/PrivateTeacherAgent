{
 "cells": [
  {
   "cell_type": "markdown",
   "id": "66c87b9bd93df381",
   "metadata": {},
   "source": [
    "# Index"
   ]
  },
  {
   "cell_type": "code",
   "execution_count": 2,
   "id": "281c1ddce386cdb0",
   "metadata": {
    "ExecuteTime": {
     "end_time": "2025-08-14T06:28:57.707270Z",
     "start_time": "2025-08-14T06:28:57.686843Z"
    }
   },
   "outputs": [],
   "source": [
    "from src.data.index_and_search import index_df, get_db_object\n",
    "from loguru import logger\n",
    "\n",
    "# run in batches to avoid memory issues - index every 100 rows in the df\n",
    "def index(df_to_index, batch_size=100):\n",
    "    n = len(df_to_index)\n",
    "    for i in range(0, n, batch_size):\n",
    "        batch_df = df_to_index.iloc[i:i+batch_size]\n",
    "        print(f\"--- {i} / {n} ---\")\n",
    "        try:\n",
    "            index_df(\n",
    "                df=batch_df,\n",
    "                index_by_col=\"question_description\",\n",
    "                need_to_embed_col=True,\n",
    "                id_col=\"question_description\",\n",
    "                collection_name=\"math_questions\",\n",
    "            )\n",
    "        except Exception as e:\n",
    "            logger.error(f\"Error indexing batch starting at row {i}: {e}\")\n"
   ]
  },
  {
   "cell_type": "markdown",
   "id": "1eda4f0e",
   "metadata": {},
   "source": [
    "# Preprocess + Indexing - take first 20,000 rows from each math full dataset"
   ]
  },
  {
   "cell_type": "code",
   "execution_count": 2,
   "id": "370e1975df5df4ee",
   "metadata": {
    "ExecuteTime": {
     "end_time": "2025-08-14T06:28:05.406016Z",
     "start_time": "2025-08-14T06:28:03.473058Z"
    }
   },
   "outputs": [
    {
     "name": "stdout",
     "output_type": "stream",
     "text": [
      "Example from collection 'math_questions': \n",
      "([Record(id='000e2a02-ca5c-5d79-b01c-b093ecae91fb', payload={'question': \"b'What is the second derivative of i**5 + 54*i**3*t + 2*i*t + 103*i + 2 wrt i?\\\\n'\", 'answer': \"b'20*i**3 + 324*i*t\\\\n'\", 'module': 'calculus__differentiate', 'question_description': \"Topic: calculus__differentiate\\nQuestion: b'What is the second derivative of i**5 + 54*i**3*t + 2*i*t + 103*i + 2 wrt i?\\\\n'\"}, vector=None, shard_key=None, order_value=None), Record(id='000e5735-9c20-5e1e-bf11-aaf35f819c0e', payload={'question': \"b'Solve 27*i - 277 - 133 = -32 for i.\\\\n'\", 'answer': \"b'14\\\\n'\", 'module': 'algebra__linear_1d', 'question_description': \"Topic: algebra__linear_1d\\nQuestion: b'Solve 27*i - 277 - 133 = -32 for i.\\\\n'\"}, vector=None, shard_key=None, order_value=None)], '000fe6b6-eb2c-57f9-9a5b-b4df0a6809f3')\n"
     ]
    }
   ],
   "source": [
    "db = get_db_object()\n",
    "db.print_example(\"math_questions\", 2)"
   ]
  },
  {
   "cell_type": "code",
   "execution_count": null,
   "id": "4b9e36702b98e84e",
   "metadata": {
    "ExecuteTime": {
     "end_time": "2025-08-14T06:30:20.796472Z",
     "start_time": "2025-08-14T06:28:59.838280Z"
    }
   },
   "outputs": [
    {
     "name": "stdout",
     "output_type": "stream",
     "text": [
      "Repository folder: /Users/kereng/Projects/PrivateTeacherAgent\n",
      "Processing numbers__gcd_full.csv...\n",
      "--- 0 / 1500 ---\n"
     ]
    },
    {
     "name": "stderr",
     "output_type": "stream",
     "text": [
      "Generating embeddings: 100%|██████████| 100/100 [00:25<00:00,  3.86it/s]\n",
      "Inserting data into math_questions: 100%|██████████| 100/100 [00:00<00:00, 19754.63it/s]\n"
     ]
    },
    {
     "name": "stdout",
     "output_type": "stream",
     "text": [
      "Collection 'math_questions' size: count=53003\n",
      "--- 100 / 1500 ---\n"
     ]
    },
    {
     "name": "stderr",
     "output_type": "stream",
     "text": [
      "Generating embeddings: 100%|██████████| 100/100 [00:22<00:00,  4.44it/s]\n",
      "Inserting data into math_questions: 100%|██████████| 100/100 [00:00<00:00, 10580.72it/s]\n"
     ]
    },
    {
     "name": "stdout",
     "output_type": "stream",
     "text": [
      "Collection 'math_questions' size: count=53103\n",
      "--- 200 / 1500 ---\n"
     ]
    },
    {
     "name": "stderr",
     "output_type": "stream",
     "text": [
      "Generating embeddings: 100%|██████████| 100/100 [00:20<00:00,  4.81it/s]\n",
      "Inserting data into math_questions: 100%|██████████| 100/100 [00:00<00:00, 10816.75it/s]\n"
     ]
    },
    {
     "name": "stdout",
     "output_type": "stream",
     "text": [
      "Collection 'math_questions' size: count=53203\n",
      "--- 300 / 1500 ---\n"
     ]
    },
    {
     "name": "stderr",
     "output_type": "stream",
     "text": [
      "Generating embeddings: 100%|██████████| 100/100 [00:21<00:00,  4.71it/s]\n",
      "Inserting data into math_questions: 100%|██████████| 100/100 [00:00<00:00, 12287.76it/s]\n"
     ]
    },
    {
     "name": "stdout",
     "output_type": "stream",
     "text": [
      "Collection 'math_questions' size: count=53303\n",
      "--- 400 / 1500 ---\n"
     ]
    },
    {
     "name": "stderr",
     "output_type": "stream",
     "text": [
      "Generating embeddings: 100%|██████████| 100/100 [00:21<00:00,  4.62it/s]\n",
      "Inserting data into math_questions: 100%|██████████| 100/100 [00:00<00:00, 12986.67it/s]\n"
     ]
    },
    {
     "name": "stdout",
     "output_type": "stream",
     "text": [
      "Collection 'math_questions' size: count=53403\n",
      "--- 500 / 1500 ---\n"
     ]
    },
    {
     "name": "stderr",
     "output_type": "stream",
     "text": [
      "Generating embeddings: 100%|██████████| 100/100 [00:20<00:00,  4.98it/s]\n",
      "Inserting data into math_questions: 100%|██████████| 100/100 [00:00<00:00, 11658.94it/s]\n"
     ]
    },
    {
     "name": "stdout",
     "output_type": "stream",
     "text": [
      "Collection 'math_questions' size: count=53503\n",
      "--- 600 / 1500 ---\n"
     ]
    },
    {
     "name": "stderr",
     "output_type": "stream",
     "text": [
      "Generating embeddings: 100%|██████████| 100/100 [00:24<00:00,  4.14it/s]\n",
      "Inserting data into math_questions: 100%|██████████| 100/100 [00:00<00:00, 12632.30it/s]\n"
     ]
    },
    {
     "name": "stdout",
     "output_type": "stream",
     "text": [
      "Collection 'math_questions' size: count=53603\n",
      "--- 700 / 1500 ---\n"
     ]
    },
    {
     "name": "stderr",
     "output_type": "stream",
     "text": [
      "Generating embeddings: 100%|██████████| 100/100 [00:28<00:00,  3.48it/s]\n",
      "Inserting data into math_questions: 100%|██████████| 100/100 [00:00<00:00, 13213.74it/s]\n"
     ]
    },
    {
     "name": "stdout",
     "output_type": "stream",
     "text": [
      "Collection 'math_questions' size: count=53703\n",
      "--- 800 / 1500 ---\n"
     ]
    },
    {
     "name": "stderr",
     "output_type": "stream",
     "text": [
      "Generating embeddings: 100%|██████████| 100/100 [00:22<00:00,  4.44it/s]\n",
      "Inserting data into math_questions: 100%|██████████| 100/100 [00:00<00:00, 13327.52it/s]\n"
     ]
    },
    {
     "name": "stdout",
     "output_type": "stream",
     "text": [
      "Collection 'math_questions' size: count=53803\n",
      "--- 900 / 1500 ---\n"
     ]
    },
    {
     "name": "stderr",
     "output_type": "stream",
     "text": [
      "Generating embeddings: 100%|██████████| 100/100 [00:23<00:00,  4.18it/s]\n",
      "Inserting data into math_questions: 100%|██████████| 100/100 [00:00<00:00, 28248.28it/s]\n"
     ]
    },
    {
     "name": "stdout",
     "output_type": "stream",
     "text": [
      "Collection 'math_questions' size: count=53903\n",
      "--- 1000 / 1500 ---\n"
     ]
    },
    {
     "name": "stderr",
     "output_type": "stream",
     "text": [
      "Generating embeddings: 100%|██████████| 100/100 [00:20<00:00,  4.88it/s]\n",
      "Inserting data into math_questions: 100%|██████████| 100/100 [00:00<00:00, 18332.55it/s]\n"
     ]
    },
    {
     "name": "stdout",
     "output_type": "stream",
     "text": [
      "Collection 'math_questions' size: count=54003\n",
      "--- 1100 / 1500 ---\n"
     ]
    },
    {
     "name": "stderr",
     "output_type": "stream",
     "text": [
      "Generating embeddings: 100%|██████████| 100/100 [00:24<00:00,  4.15it/s]\n",
      "Inserting data into math_questions: 100%|██████████| 100/100 [00:00<00:00, 37065.25it/s]\n"
     ]
    },
    {
     "name": "stdout",
     "output_type": "stream",
     "text": [
      "Collection 'math_questions' size: count=54103\n",
      "--- 1200 / 1500 ---\n"
     ]
    },
    {
     "name": "stderr",
     "output_type": "stream",
     "text": [
      "Generating embeddings: 100%|██████████| 100/100 [00:19<00:00,  5.07it/s]\n",
      "Inserting data into math_questions: 100%|██████████| 100/100 [00:00<00:00, 14412.92it/s]\n"
     ]
    },
    {
     "name": "stdout",
     "output_type": "stream",
     "text": [
      "Collection 'math_questions' size: count=54203\n",
      "--- 1300 / 1500 ---\n"
     ]
    },
    {
     "name": "stderr",
     "output_type": "stream",
     "text": [
      "Generating embeddings: 100%|██████████| 100/100 [00:21<00:00,  4.63it/s]\n",
      "Inserting data into math_questions: 100%|██████████| 100/100 [00:00<00:00, 9850.41it/s]\n"
     ]
    },
    {
     "name": "stdout",
     "output_type": "stream",
     "text": [
      "Collection 'math_questions' size: count=54303\n",
      "--- 1400 / 1500 ---\n"
     ]
    },
    {
     "name": "stderr",
     "output_type": "stream",
     "text": [
      "Generating embeddings: 100%|██████████| 100/100 [00:22<00:00,  4.41it/s]\n",
      "Inserting data into math_questions: 100%|██████████| 100/100 [00:00<00:00, 9867.79it/s]\n"
     ]
    },
    {
     "name": "stdout",
     "output_type": "stream",
     "text": [
      "Collection 'math_questions' size: count=54403\n",
      "Processing polynomials__expand_full.csv...\n",
      "--- 0 / 1500 ---\n"
     ]
    },
    {
     "name": "stderr",
     "output_type": "stream",
     "text": [
      "Generating embeddings: 100%|██████████| 100/100 [00:23<00:00,  4.27it/s]\n",
      "Inserting data into math_questions: 100%|██████████| 100/100 [00:00<00:00, 12523.68it/s]\n"
     ]
    },
    {
     "name": "stdout",
     "output_type": "stream",
     "text": [
      "Collection 'math_questions' size: count=54503\n",
      "--- 100 / 1500 ---\n"
     ]
    },
    {
     "name": "stderr",
     "output_type": "stream",
     "text": [
      "Generating embeddings: 100%|██████████| 100/100 [00:21<00:00,  4.75it/s]\n",
      "Inserting data into math_questions: 100%|██████████| 100/100 [00:00<00:00, 9632.34it/s]\n"
     ]
    },
    {
     "name": "stdout",
     "output_type": "stream",
     "text": [
      "Collection 'math_questions' size: count=54603\n",
      "--- 200 / 1500 ---\n"
     ]
    },
    {
     "name": "stderr",
     "output_type": "stream",
     "text": [
      "Generating embeddings: 100%|██████████| 100/100 [00:24<00:00,  4.09it/s]\n",
      "Inserting data into math_questions: 100%|██████████| 100/100 [00:00<00:00, 11752.37it/s]\n"
     ]
    },
    {
     "name": "stdout",
     "output_type": "stream",
     "text": [
      "Collection 'math_questions' size: count=54703\n",
      "--- 300 / 1500 ---\n"
     ]
    },
    {
     "name": "stderr",
     "output_type": "stream",
     "text": [
      "Generating embeddings: 100%|██████████| 100/100 [00:22<00:00,  4.46it/s]\n",
      "Inserting data into math_questions: 100%|██████████| 100/100 [00:00<00:00, 9794.28it/s]\n"
     ]
    },
    {
     "name": "stdout",
     "output_type": "stream",
     "text": [
      "Collection 'math_questions' size: count=54803\n",
      "--- 400 / 1500 ---\n"
     ]
    },
    {
     "name": "stderr",
     "output_type": "stream",
     "text": [
      "Generating embeddings: 100%|██████████| 100/100 [00:24<00:00,  4.01it/s]\n",
      "Inserting data into math_questions: 100%|██████████| 100/100 [00:00<00:00, 8954.15it/s]\n"
     ]
    },
    {
     "name": "stdout",
     "output_type": "stream",
     "text": [
      "Collection 'math_questions' size: count=54903\n",
      "--- 500 / 1500 ---\n"
     ]
    },
    {
     "name": "stderr",
     "output_type": "stream",
     "text": [
      "Generating embeddings: 100%|██████████| 100/100 [00:22<00:00,  4.38it/s]\n",
      "Inserting data into math_questions: 100%|██████████| 100/100 [00:00<00:00, 22025.44it/s]\n",
      "\u001b[32m2025-08-14 13:38:27.295\u001b[0m | \u001b[31m\u001b[1mERROR   \u001b[0m | \u001b[36m__main__\u001b[0m:\u001b[36mindex\u001b[0m:\u001b[36m19\u001b[0m - \u001b[31m\u001b[1mError indexing batch starting at row 500: The write operation timed out\u001b[0m\n"
     ]
    },
    {
     "name": "stdout",
     "output_type": "stream",
     "text": [
      "--- 600 / 1500 ---\n"
     ]
    },
    {
     "name": "stderr",
     "output_type": "stream",
     "text": [
      "Generating embeddings: 100%|██████████| 100/100 [00:21<00:00,  4.75it/s]\n",
      "Inserting data into math_questions: 100%|██████████| 100/100 [00:00<00:00, 30321.00it/s]\n"
     ]
    },
    {
     "name": "stdout",
     "output_type": "stream",
     "text": [
      "Collection 'math_questions' size: count=55003\n",
      "--- 700 / 1500 ---\n"
     ]
    },
    {
     "name": "stderr",
     "output_type": "stream",
     "text": [
      "Generating embeddings: 100%|██████████| 100/100 [00:24<00:00,  4.07it/s]\n",
      "Inserting data into math_questions: 100%|██████████| 100/100 [00:00<00:00, 35959.40it/s]\n"
     ]
    },
    {
     "name": "stdout",
     "output_type": "stream",
     "text": [
      "Collection 'math_questions' size: count=55103\n",
      "--- 800 / 1500 ---\n"
     ]
    },
    {
     "name": "stderr",
     "output_type": "stream",
     "text": [
      "Generating embeddings: 100%|██████████| 100/100 [00:21<00:00,  4.74it/s]\n",
      "Inserting data into math_questions: 100%|██████████| 100/100 [00:00<00:00, 28842.69it/s]\n"
     ]
    }
   ],
   "source": [
    "from src.utils.folders_utils import get_repo_folder\n",
    "import pandas as pd\n",
    "from pathlib import Path\n",
    "\n",
    "repo_folder = get_repo_folder()\n",
    "print(f\"Repository folder: {repo_folder}\")\n",
    "\n",
    "\n",
    "directory = Path(repo_folder / \"src/data/DB_questions/Math/math_dataset_csvs\")\n",
    "\n",
    "dfs = []\n",
    "\n",
    "# Loop through all CSV files\n",
    "for file_path in directory.glob(\"*.csv\"):\n",
    "    if \"algebra__linear_1d_full.csv\" in file_path.name or \"mini\" in file_path.name \\\n",
    "        or \"algebra__polynomial_roots_full\" in file_path.name:\n",
    "        continue\n",
    "    print(f\"Processing {file_path.name}...\")\n",
    "\n",
    "    df = pd.read_csv(file_path)[25500:27000]\n",
    "\n",
    "    df[\"question_description\"] = df.apply(lambda row: f\"Topic: {row['module']}\\nQuestion: {row['question']}\", axis=1)\n",
    "\n",
    "    index(df)"
   ]
  },
  {
   "cell_type": "code",
   "execution_count": null,
   "id": "6c3f031c",
   "metadata": {},
   "outputs": [],
   "source": [
    "dfs[0]\n"
   ]
  }
 ],
 "metadata": {
  "kernelspec": {
   "display_name": "private_teacher_agent",
   "language": "python",
   "name": "python3"
  },
  "language_info": {
   "codemirror_mode": {
    "name": "ipython",
    "version": 3
   },
   "file_extension": ".py",
   "mimetype": "text/x-python",
   "name": "python",
   "nbconvert_exporter": "python",
   "pygments_lexer": "ipython3",
   "version": "3.11.13"
  }
 },
 "nbformat": 4,
 "nbformat_minor": 5
}
