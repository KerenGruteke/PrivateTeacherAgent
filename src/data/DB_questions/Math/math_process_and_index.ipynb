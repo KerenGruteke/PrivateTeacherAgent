{
 "cells": [
  {
   "cell_type": "markdown",
   "id": "66c87b9bd93df381",
   "metadata": {},
   "source": [
    "# Index"
   ]
  },
  {
   "cell_type": "code",
   "execution_count": 4,
   "id": "281c1ddce386cdb0",
   "metadata": {
    "ExecuteTime": {
     "end_time": "2025-08-14T06:28:57.707270Z",
     "start_time": "2025-08-14T06:28:57.686843Z"
    }
   },
   "outputs": [],
   "source": [
    "from src.data.index_and_search import index_df, get_db_object\n",
    "from loguru import logger\n",
    "\n",
    "# run in batches to avoid memory issues - index every 100 rows in the df\n",
    "def index(df_to_index, batch_size=100):\n",
    "    n = len(df_to_index)\n",
    "    for i in range(0, n, batch_size):\n",
    "        batch_df = df_to_index.iloc[i:i+batch_size]\n",
    "        print(f\"--- {i} / {n} ---\")\n",
    "        try:\n",
    "            index_df(\n",
    "                df=batch_df,\n",
    "                index_by_col=\"question_description\",\n",
    "                need_to_embed_col=True,\n",
    "                id_col=\"question_description\",\n",
    "                collection_name=\"math_questions\",\n",
    "            )\n",
    "        except Exception as e:\n",
    "            logger.error(f\"Error indexing batch starting at row {i}: {e}\")\n"
   ]
  },
  {
   "cell_type": "markdown",
   "id": "1eda4f0e",
   "metadata": {},
   "source": [
    "# Preprocess + Indexing - take first 20,000 rows from each math full dataset"
   ]
  },
  {
   "cell_type": "code",
   "execution_count": 2,
   "id": "370e1975df5df4ee",
   "metadata": {
    "ExecuteTime": {
     "end_time": "2025-08-14T06:28:05.406016Z",
     "start_time": "2025-08-14T06:28:03.473058Z"
    }
   },
   "outputs": [
    {
     "name": "stdout",
     "output_type": "stream",
     "text": [
      "Example from collection 'math_questions': \n",
      "([Record(id='000e2a02-ca5c-5d79-b01c-b093ecae91fb', payload={'question': \"b'What is the second derivative of i**5 + 54*i**3*t + 2*i*t + 103*i + 2 wrt i?\\\\n'\", 'answer': \"b'20*i**3 + 324*i*t\\\\n'\", 'module': 'calculus__differentiate', 'question_description': \"Topic: calculus__differentiate\\nQuestion: b'What is the second derivative of i**5 + 54*i**3*t + 2*i*t + 103*i + 2 wrt i?\\\\n'\"}, vector=None, shard_key=None, order_value=None), Record(id='000e5735-9c20-5e1e-bf11-aaf35f819c0e', payload={'question': \"b'Solve 27*i - 277 - 133 = -32 for i.\\\\n'\", 'answer': \"b'14\\\\n'\", 'module': 'algebra__linear_1d', 'question_description': \"Topic: algebra__linear_1d\\nQuestion: b'Solve 27*i - 277 - 133 = -32 for i.\\\\n'\"}, vector=None, shard_key=None, order_value=None)], '000fe6b6-eb2c-57f9-9a5b-b4df0a6809f3')\n"
     ]
    }
   ],
   "source": [
    "db = get_db_object()\n",
    "db.print_example(\"math_questions\", 2)"
   ]
  },
  {
   "cell_type": "code",
   "execution_count": 5,
   "id": "4b9e36702b98e84e",
   "metadata": {
    "ExecuteTime": {
     "end_time": "2025-08-14T06:30:20.796472Z",
     "start_time": "2025-08-14T06:28:59.838280Z"
    }
   },
   "outputs": [
    {
     "name": "stdout",
     "output_type": "stream",
     "text": [
      "Repository folder: /Users/kereng/Projects/PrivateTeacherAgent\n",
      "Processing numbers__gcd_full.csv...\n",
      "--- 0 / 1000 ---\n"
     ]
    },
    {
     "name": "stderr",
     "output_type": "stream",
     "text": [
      "Generating embeddings: 100%|██████████| 100/100 [00:22<00:00,  4.51it/s]\n",
      "Inserting data into math_questions: 100%|██████████| 100/100 [00:00<00:00, 27699.80it/s]\n"
     ]
    },
    {
     "name": "stdout",
     "output_type": "stream",
     "text": [
      "Collection 'math_questions' size: count=25505\n",
      "--- 100 / 1000 ---\n"
     ]
    },
    {
     "name": "stderr",
     "output_type": "stream",
     "text": [
      "Generating embeddings: 100%|██████████| 100/100 [00:21<00:00,  4.61it/s]\n",
      "Inserting data into math_questions: 100%|██████████| 100/100 [00:00<00:00, 7856.12it/s]\n"
     ]
    },
    {
     "name": "stdout",
     "output_type": "stream",
     "text": [
      "Collection 'math_questions' size: count=25605\n",
      "--- 200 / 1000 ---\n"
     ]
    },
    {
     "name": "stderr",
     "output_type": "stream",
     "text": [
      "Generating embeddings: 100%|██████████| 100/100 [00:20<00:00,  4.88it/s]\n",
      "Inserting data into math_questions: 100%|██████████| 100/100 [00:00<00:00, 10845.00it/s]\n"
     ]
    },
    {
     "name": "stdout",
     "output_type": "stream",
     "text": [
      "Collection 'math_questions' size: count=25705\n",
      "--- 300 / 1000 ---\n"
     ]
    },
    {
     "name": "stderr",
     "output_type": "stream",
     "text": [
      "Generating embeddings: 100%|██████████| 100/100 [00:21<00:00,  4.72it/s]\n",
      "Inserting data into math_questions: 100%|██████████| 100/100 [00:00<00:00, 12181.41it/s]\n"
     ]
    },
    {
     "name": "stdout",
     "output_type": "stream",
     "text": [
      "Collection 'math_questions' size: count=25805\n",
      "--- 400 / 1000 ---\n"
     ]
    },
    {
     "name": "stderr",
     "output_type": "stream",
     "text": [
      "Generating embeddings: 100%|██████████| 100/100 [00:20<00:00,  4.80it/s]\n",
      "Inserting data into math_questions: 100%|██████████| 100/100 [00:00<00:00, 12305.79it/s]\n"
     ]
    },
    {
     "name": "stdout",
     "output_type": "stream",
     "text": [
      "Collection 'math_questions' size: count=25905\n",
      "--- 500 / 1000 ---\n"
     ]
    },
    {
     "name": "stderr",
     "output_type": "stream",
     "text": [
      "Generating embeddings: 100%|██████████| 100/100 [00:21<00:00,  4.58it/s]\n",
      "Inserting data into math_questions: 100%|██████████| 100/100 [00:00<00:00, 10871.99it/s]\n"
     ]
    },
    {
     "name": "stdout",
     "output_type": "stream",
     "text": [
      "Collection 'math_questions' size: count=26005\n",
      "--- 600 / 1000 ---\n"
     ]
    },
    {
     "name": "stderr",
     "output_type": "stream",
     "text": [
      "Generating embeddings: 100%|██████████| 100/100 [00:21<00:00,  4.58it/s]\n",
      "Inserting data into math_questions: 100%|██████████| 100/100 [00:00<00:00, 12682.73it/s]\n"
     ]
    },
    {
     "name": "stdout",
     "output_type": "stream",
     "text": [
      "Collection 'math_questions' size: count=26105\n",
      "--- 700 / 1000 ---\n"
     ]
    },
    {
     "name": "stderr",
     "output_type": "stream",
     "text": [
      "Generating embeddings: 100%|██████████| 100/100 [00:21<00:00,  4.73it/s]\n",
      "Inserting data into math_questions: 100%|██████████| 100/100 [00:00<00:00, 13768.07it/s]\n"
     ]
    },
    {
     "name": "stdout",
     "output_type": "stream",
     "text": [
      "Collection 'math_questions' size: count=26205\n",
      "--- 800 / 1000 ---\n"
     ]
    },
    {
     "name": "stderr",
     "output_type": "stream",
     "text": [
      "Generating embeddings: 100%|██████████| 100/100 [00:19<00:00,  5.12it/s]\n",
      "Inserting data into math_questions: 100%|██████████| 100/100 [00:00<00:00, 9022.73it/s]\n"
     ]
    },
    {
     "name": "stdout",
     "output_type": "stream",
     "text": [
      "Collection 'math_questions' size: count=26305\n",
      "--- 900 / 1000 ---\n"
     ]
    },
    {
     "name": "stderr",
     "output_type": "stream",
     "text": [
      "Generating embeddings: 100%|██████████| 100/100 [00:20<00:00,  4.99it/s]\n",
      "Inserting data into math_questions: 100%|██████████| 100/100 [00:00<00:00, 12219.03it/s]\n"
     ]
    },
    {
     "name": "stdout",
     "output_type": "stream",
     "text": [
      "Collection 'math_questions' size: count=26405\n",
      "Processing polynomials__expand_full.csv...\n",
      "--- 0 / 1000 ---\n"
     ]
    },
    {
     "name": "stderr",
     "output_type": "stream",
     "text": [
      "Generating embeddings: 100%|██████████| 100/100 [00:21<00:00,  4.55it/s]\n",
      "Inserting data into math_questions: 100%|██████████| 100/100 [00:00<00:00, 7325.40it/s]\n"
     ]
    },
    {
     "name": "stdout",
     "output_type": "stream",
     "text": [
      "Collection 'math_questions' size: count=26505\n",
      "--- 100 / 1000 ---\n"
     ]
    },
    {
     "name": "stderr",
     "output_type": "stream",
     "text": [
      "Generating embeddings: 100%|██████████| 100/100 [00:21<00:00,  4.64it/s]\n",
      "Inserting data into math_questions: 100%|██████████| 100/100 [00:00<00:00, 13574.24it/s]\n"
     ]
    },
    {
     "name": "stdout",
     "output_type": "stream",
     "text": [
      "Collection 'math_questions' size: count=26605\n",
      "--- 200 / 1000 ---\n"
     ]
    },
    {
     "name": "stderr",
     "output_type": "stream",
     "text": [
      "Generating embeddings: 100%|██████████| 100/100 [00:20<00:00,  4.78it/s]\n",
      "Inserting data into math_questions: 100%|██████████| 100/100 [00:00<00:00, 11347.00it/s]\n"
     ]
    },
    {
     "name": "stdout",
     "output_type": "stream",
     "text": [
      "Collection 'math_questions' size: count=26705\n",
      "--- 300 / 1000 ---\n"
     ]
    },
    {
     "name": "stderr",
     "output_type": "stream",
     "text": [
      "Generating embeddings: 100%|██████████| 100/100 [00:20<00:00,  4.90it/s]\n",
      "Inserting data into math_questions: 100%|██████████| 100/100 [00:00<00:00, 6988.99it/s]\n"
     ]
    },
    {
     "name": "stdout",
     "output_type": "stream",
     "text": [
      "Collection 'math_questions' size: count=26805\n",
      "--- 400 / 1000 ---\n"
     ]
    },
    {
     "name": "stderr",
     "output_type": "stream",
     "text": [
      "Generating embeddings: 100%|██████████| 100/100 [00:21<00:00,  4.66it/s]\n",
      "Inserting data into math_questions: 100%|██████████| 100/100 [00:00<00:00, 10185.54it/s]\n"
     ]
    },
    {
     "name": "stdout",
     "output_type": "stream",
     "text": [
      "Collection 'math_questions' size: count=26905\n",
      "--- 500 / 1000 ---\n"
     ]
    },
    {
     "name": "stderr",
     "output_type": "stream",
     "text": [
      "Generating embeddings: 100%|██████████| 100/100 [00:21<00:00,  4.76it/s]\n",
      "Inserting data into math_questions: 100%|██████████| 100/100 [00:00<00:00, 8778.92it/s]\n"
     ]
    },
    {
     "name": "stdout",
     "output_type": "stream",
     "text": [
      "Collection 'math_questions' size: count=27005\n",
      "--- 600 / 1000 ---\n"
     ]
    },
    {
     "name": "stderr",
     "output_type": "stream",
     "text": [
      "Generating embeddings: 100%|██████████| 100/100 [00:20<00:00,  4.99it/s]\n",
      "Inserting data into math_questions: 100%|██████████| 100/100 [00:00<00:00, 10330.54it/s]\n"
     ]
    },
    {
     "name": "stdout",
     "output_type": "stream",
     "text": [
      "Collection 'math_questions' size: count=27105\n",
      "--- 700 / 1000 ---\n"
     ]
    },
    {
     "name": "stderr",
     "output_type": "stream",
     "text": [
      "Generating embeddings: 100%|██████████| 100/100 [00:21<00:00,  4.74it/s]\n",
      "Inserting data into math_questions: 100%|██████████| 100/100 [00:00<00:00, 11126.07it/s]\n"
     ]
    },
    {
     "name": "stdout",
     "output_type": "stream",
     "text": [
      "Collection 'math_questions' size: count=27205\n",
      "--- 800 / 1000 ---\n"
     ]
    },
    {
     "name": "stderr",
     "output_type": "stream",
     "text": [
      "Generating embeddings: 100%|██████████| 100/100 [00:22<00:00,  4.50it/s]\n",
      "Inserting data into math_questions: 100%|██████████| 100/100 [00:00<00:00, 9811.70it/s]\n"
     ]
    },
    {
     "name": "stdout",
     "output_type": "stream",
     "text": [
      "Collection 'math_questions' size: count=27305\n",
      "--- 900 / 1000 ---\n"
     ]
    },
    {
     "name": "stderr",
     "output_type": "stream",
     "text": [
      "Generating embeddings: 100%|██████████| 100/100 [00:20<00:00,  4.80it/s]\n",
      "Inserting data into math_questions: 100%|██████████| 100/100 [00:00<00:00, 31626.48it/s]\n"
     ]
    },
    {
     "name": "stdout",
     "output_type": "stream",
     "text": [
      "Collection 'math_questions' size: count=27405\n",
      "Processing arithmetic__mul_full.csv...\n",
      "--- 0 / 1000 ---\n"
     ]
    },
    {
     "name": "stderr",
     "output_type": "stream",
     "text": [
      "Generating embeddings: 100%|██████████| 100/100 [00:19<00:00,  5.06it/s]\n",
      "Inserting data into math_questions: 100%|██████████| 100/100 [00:00<00:00, 6692.15it/s]\n"
     ]
    },
    {
     "name": "stdout",
     "output_type": "stream",
     "text": [
      "Collection 'math_questions' size: count=27505\n",
      "--- 100 / 1000 ---\n"
     ]
    },
    {
     "name": "stderr",
     "output_type": "stream",
     "text": [
      "Generating embeddings: 100%|██████████| 100/100 [00:21<00:00,  4.68it/s]\n",
      "Inserting data into math_questions: 100%|██████████| 100/100 [00:00<00:00, 8909.45it/s]\n"
     ]
    },
    {
     "name": "stdout",
     "output_type": "stream",
     "text": [
      "Collection 'math_questions' size: count=27605\n",
      "--- 200 / 1000 ---\n"
     ]
    },
    {
     "name": "stderr",
     "output_type": "stream",
     "text": [
      "Generating embeddings: 100%|██████████| 100/100 [00:19<00:00,  5.11it/s]\n",
      "Inserting data into math_questions: 100%|██████████| 100/100 [00:00<00:00, 10940.90it/s]\n"
     ]
    },
    {
     "name": "stdout",
     "output_type": "stream",
     "text": [
      "Collection 'math_questions' size: count=27705\n",
      "--- 300 / 1000 ---\n"
     ]
    },
    {
     "name": "stderr",
     "output_type": "stream",
     "text": [
      "Generating embeddings: 100%|██████████| 100/100 [00:19<00:00,  5.06it/s]\n",
      "Inserting data into math_questions: 100%|██████████| 100/100 [00:00<00:00, 11513.01it/s]\n"
     ]
    },
    {
     "name": "stdout",
     "output_type": "stream",
     "text": [
      "Collection 'math_questions' size: count=27805\n",
      "--- 400 / 1000 ---\n"
     ]
    },
    {
     "name": "stderr",
     "output_type": "stream",
     "text": [
      "Generating embeddings: 100%|██████████| 100/100 [00:20<00:00,  4.81it/s]\n",
      "Inserting data into math_questions: 100%|██████████| 100/100 [00:00<00:00, 29689.98it/s]\n"
     ]
    },
    {
     "name": "stdout",
     "output_type": "stream",
     "text": [
      "Collection 'math_questions' size: count=27905\n",
      "--- 500 / 1000 ---\n"
     ]
    },
    {
     "name": "stderr",
     "output_type": "stream",
     "text": [
      "Generating embeddings: 100%|██████████| 100/100 [00:20<00:00,  4.86it/s]\n",
      "Inserting data into math_questions: 100%|██████████| 100/100 [00:00<00:00, 11499.75it/s]\n"
     ]
    },
    {
     "name": "stdout",
     "output_type": "stream",
     "text": [
      "Collection 'math_questions' size: count=28005\n",
      "--- 600 / 1000 ---\n"
     ]
    },
    {
     "name": "stderr",
     "output_type": "stream",
     "text": [
      "Generating embeddings: 100%|██████████| 100/100 [00:22<00:00,  4.44it/s]\n",
      "Inserting data into math_questions: 100%|██████████| 100/100 [00:00<00:00, 9254.86it/s]\n"
     ]
    },
    {
     "name": "stdout",
     "output_type": "stream",
     "text": [
      "Collection 'math_questions' size: count=28105\n",
      "--- 700 / 1000 ---\n"
     ]
    },
    {
     "name": "stderr",
     "output_type": "stream",
     "text": [
      "Generating embeddings: 100%|██████████| 100/100 [00:19<00:00,  5.00it/s]\n",
      "Inserting data into math_questions: 100%|██████████| 100/100 [00:00<00:00, 10277.64it/s]\n"
     ]
    },
    {
     "name": "stdout",
     "output_type": "stream",
     "text": [
      "Collection 'math_questions' size: count=28205\n",
      "--- 800 / 1000 ---\n"
     ]
    },
    {
     "name": "stderr",
     "output_type": "stream",
     "text": [
      "Generating embeddings: 100%|██████████| 100/100 [00:20<00:00,  4.96it/s]\n",
      "Inserting data into math_questions: 100%|██████████| 100/100 [00:00<00:00, 10742.51it/s]\n"
     ]
    },
    {
     "name": "stdout",
     "output_type": "stream",
     "text": [
      "Collection 'math_questions' size: count=28305\n",
      "--- 900 / 1000 ---\n"
     ]
    },
    {
     "name": "stderr",
     "output_type": "stream",
     "text": [
      "Generating embeddings: 100%|██████████| 100/100 [00:19<00:00,  5.05it/s]\n",
      "Inserting data into math_questions: 100%|██████████| 100/100 [00:00<00:00, 9741.06it/s]\n"
     ]
    },
    {
     "name": "stdout",
     "output_type": "stream",
     "text": [
      "Collection 'math_questions' size: count=28405\n",
      "Processing calculus__differentiate_full.csv...\n",
      "--- 0 / 1000 ---\n"
     ]
    },
    {
     "name": "stderr",
     "output_type": "stream",
     "text": [
      "Generating embeddings: 100%|██████████| 100/100 [00:20<00:00,  4.85it/s]\n",
      "Inserting data into math_questions: 100%|██████████| 100/100 [00:00<00:00, 9748.53it/s]\n"
     ]
    },
    {
     "name": "stdout",
     "output_type": "stream",
     "text": [
      "Collection 'math_questions' size: count=28505\n",
      "--- 100 / 1000 ---\n"
     ]
    },
    {
     "name": "stderr",
     "output_type": "stream",
     "text": [
      "Generating embeddings: 100%|██████████| 100/100 [00:20<00:00,  4.96it/s]\n",
      "Inserting data into math_questions: 100%|██████████| 100/100 [00:00<00:00, 9952.32it/s]\n"
     ]
    },
    {
     "name": "stdout",
     "output_type": "stream",
     "text": [
      "Collection 'math_questions' size: count=28605\n",
      "--- 200 / 1000 ---\n"
     ]
    },
    {
     "name": "stderr",
     "output_type": "stream",
     "text": [
      "Generating embeddings: 100%|██████████| 100/100 [00:19<00:00,  5.01it/s]\n",
      "Inserting data into math_questions: 100%|██████████| 100/100 [00:00<00:00, 15936.41it/s]\n"
     ]
    },
    {
     "name": "stdout",
     "output_type": "stream",
     "text": [
      "Collection 'math_questions' size: count=28705\n",
      "--- 300 / 1000 ---\n"
     ]
    },
    {
     "name": "stderr",
     "output_type": "stream",
     "text": [
      "Generating embeddings: 100%|██████████| 100/100 [00:20<00:00,  4.98it/s]\n",
      "Inserting data into math_questions: 100%|██████████| 100/100 [00:00<00:00, 9053.11it/s]\n"
     ]
    },
    {
     "name": "stdout",
     "output_type": "stream",
     "text": [
      "Collection 'math_questions' size: count=28805\n",
      "--- 400 / 1000 ---\n"
     ]
    },
    {
     "name": "stderr",
     "output_type": "stream",
     "text": [
      "Generating embeddings: 100%|██████████| 100/100 [00:19<00:00,  5.06it/s]\n",
      "Inserting data into math_questions: 100%|██████████| 100/100 [00:00<00:00, 10304.91it/s]\n"
     ]
    },
    {
     "name": "stdout",
     "output_type": "stream",
     "text": [
      "Collection 'math_questions' size: count=28905\n",
      "--- 500 / 1000 ---\n"
     ]
    },
    {
     "name": "stderr",
     "output_type": "stream",
     "text": [
      "Generating embeddings: 100%|██████████| 100/100 [00:21<00:00,  4.72it/s]\n",
      "Inserting data into math_questions: 100%|██████████| 100/100 [00:00<00:00, 9362.49it/s]\n"
     ]
    },
    {
     "name": "stdout",
     "output_type": "stream",
     "text": [
      "Collection 'math_questions' size: count=29005\n",
      "--- 600 / 1000 ---\n"
     ]
    },
    {
     "name": "stderr",
     "output_type": "stream",
     "text": [
      "Generating embeddings: 100%|██████████| 100/100 [00:20<00:00,  4.84it/s]\n",
      "Inserting data into math_questions: 100%|██████████| 100/100 [00:00<00:00, 8724.68it/s]\n"
     ]
    },
    {
     "name": "stdout",
     "output_type": "stream",
     "text": [
      "Collection 'math_questions' size: count=29105\n",
      "--- 700 / 1000 ---\n"
     ]
    },
    {
     "name": "stderr",
     "output_type": "stream",
     "text": [
      "Generating embeddings: 100%|██████████| 100/100 [00:20<00:00,  4.96it/s]\n",
      "Inserting data into math_questions: 100%|██████████| 100/100 [00:00<00:00, 10441.64it/s]\n"
     ]
    },
    {
     "name": "stdout",
     "output_type": "stream",
     "text": [
      "Collection 'math_questions' size: count=29205\n",
      "--- 800 / 1000 ---\n"
     ]
    },
    {
     "name": "stderr",
     "output_type": "stream",
     "text": [
      "Generating embeddings: 100%|██████████| 100/100 [00:19<00:00,  5.03it/s]\n",
      "Inserting data into math_questions: 100%|██████████| 100/100 [00:00<00:00, 11827.27it/s]\n"
     ]
    },
    {
     "name": "stdout",
     "output_type": "stream",
     "text": [
      "Collection 'math_questions' size: count=29305\n",
      "--- 900 / 1000 ---\n"
     ]
    },
    {
     "name": "stderr",
     "output_type": "stream",
     "text": [
      "Generating embeddings: 100%|██████████| 100/100 [00:20<00:00,  4.92it/s]\n",
      "Inserting data into math_questions: 100%|██████████| 100/100 [00:00<00:00, 10614.46it/s]\n"
     ]
    },
    {
     "name": "stdout",
     "output_type": "stream",
     "text": [
      "Collection 'math_questions' size: count=29405\n",
      "Processing arithmetic__add_or_sub_full.csv...\n",
      "--- 0 / 1000 ---\n"
     ]
    },
    {
     "name": "stderr",
     "output_type": "stream",
     "text": [
      "Generating embeddings: 100%|██████████| 100/100 [00:22<00:00,  4.54it/s]\n",
      "Inserting data into math_questions: 100%|██████████| 100/100 [00:00<00:00, 11702.86it/s]\n"
     ]
    },
    {
     "name": "stdout",
     "output_type": "stream",
     "text": [
      "Collection 'math_questions' size: count=29505\n",
      "--- 100 / 1000 ---\n"
     ]
    },
    {
     "name": "stderr",
     "output_type": "stream",
     "text": [
      "Generating embeddings: 100%|██████████| 100/100 [00:21<00:00,  4.75it/s]\n",
      "Inserting data into math_questions: 100%|██████████| 100/100 [00:00<00:00, 15825.77it/s]\n"
     ]
    },
    {
     "name": "stdout",
     "output_type": "stream",
     "text": [
      "Collection 'math_questions' size: count=29605\n",
      "--- 200 / 1000 ---\n"
     ]
    },
    {
     "name": "stderr",
     "output_type": "stream",
     "text": [
      "Generating embeddings: 100%|██████████| 100/100 [00:21<00:00,  4.71it/s]\n",
      "Inserting data into math_questions: 100%|██████████| 100/100 [00:00<00:00, 28718.27it/s]\n"
     ]
    },
    {
     "name": "stdout",
     "output_type": "stream",
     "text": [
      "Collection 'math_questions' size: count=29705\n",
      "--- 300 / 1000 ---\n"
     ]
    },
    {
     "name": "stderr",
     "output_type": "stream",
     "text": [
      "Generating embeddings: 100%|██████████| 100/100 [00:20<00:00,  4.91it/s]\n",
      "Inserting data into math_questions: 100%|██████████| 100/100 [00:00<00:00, 10361.68it/s]\n"
     ]
    },
    {
     "name": "stdout",
     "output_type": "stream",
     "text": [
      "Collection 'math_questions' size: count=29805\n",
      "--- 400 / 1000 ---\n"
     ]
    },
    {
     "name": "stderr",
     "output_type": "stream",
     "text": [
      "Generating embeddings: 100%|██████████| 100/100 [00:20<00:00,  4.86it/s]\n",
      "Inserting data into math_questions: 100%|██████████| 100/100 [00:00<00:00, 12294.24it/s]\n"
     ]
    },
    {
     "name": "stdout",
     "output_type": "stream",
     "text": [
      "Collection 'math_questions' size: count=29905\n",
      "--- 500 / 1000 ---\n"
     ]
    },
    {
     "name": "stderr",
     "output_type": "stream",
     "text": [
      "Generating embeddings: 100%|██████████| 100/100 [00:20<00:00,  4.84it/s]\n",
      "Inserting data into math_questions: 100%|██████████| 100/100 [00:00<00:00, 9624.82it/s]\n"
     ]
    },
    {
     "name": "stdout",
     "output_type": "stream",
     "text": [
      "Collection 'math_questions' size: count=30005\n",
      "--- 600 / 1000 ---\n"
     ]
    },
    {
     "name": "stderr",
     "output_type": "stream",
     "text": [
      "Generating embeddings: 100%|██████████| 100/100 [00:21<00:00,  4.76it/s]\n",
      "Inserting data into math_questions: 100%|██████████| 100/100 [00:00<00:00, 11358.37it/s]\n"
     ]
    },
    {
     "name": "stdout",
     "output_type": "stream",
     "text": [
      "Collection 'math_questions' size: count=30105\n",
      "--- 700 / 1000 ---\n"
     ]
    },
    {
     "name": "stderr",
     "output_type": "stream",
     "text": [
      "Generating embeddings: 100%|██████████| 100/100 [00:20<00:00,  4.99it/s]\n",
      "Inserting data into math_questions: 100%|██████████| 100/100 [00:00<00:00, 13732.01it/s]\n"
     ]
    },
    {
     "name": "stdout",
     "output_type": "stream",
     "text": [
      "Collection 'math_questions' size: count=30205\n",
      "--- 800 / 1000 ---\n"
     ]
    },
    {
     "name": "stderr",
     "output_type": "stream",
     "text": [
      "Generating embeddings: 100%|██████████| 100/100 [00:20<00:00,  4.81it/s]\n",
      "Inserting data into math_questions: 100%|██████████| 100/100 [00:00<00:00, 6818.45it/s]\n"
     ]
    },
    {
     "name": "stdout",
     "output_type": "stream",
     "text": [
      "Collection 'math_questions' size: count=30305\n",
      "--- 900 / 1000 ---\n"
     ]
    },
    {
     "name": "stderr",
     "output_type": "stream",
     "text": [
      "Generating embeddings: 100%|██████████| 100/100 [00:34<00:00,  2.88it/s]\n",
      "Inserting data into math_questions: 100%|██████████| 100/100 [00:00<00:00, 5574.05it/s]\n"
     ]
    },
    {
     "name": "stdout",
     "output_type": "stream",
     "text": [
      "Collection 'math_questions' size: count=30405\n",
      "Processing probability__swr_p_sequence_full.csv...\n",
      "--- 0 / 1000 ---\n"
     ]
    },
    {
     "name": "stderr",
     "output_type": "stream",
     "text": [
      "Generating embeddings: 100%|██████████| 100/100 [00:21<00:00,  4.68it/s]\n",
      "Inserting data into math_questions: 100%|██████████| 100/100 [00:00<00:00, 10568.72it/s]\n"
     ]
    },
    {
     "name": "stdout",
     "output_type": "stream",
     "text": [
      "Collection 'math_questions' size: count=30505\n",
      "--- 100 / 1000 ---\n"
     ]
    },
    {
     "name": "stderr",
     "output_type": "stream",
     "text": [
      "Generating embeddings: 100%|██████████| 100/100 [00:19<00:00,  5.04it/s]\n",
      "Inserting data into math_questions: 100%|██████████| 100/100 [00:00<00:00, 7408.99it/s]\n"
     ]
    },
    {
     "name": "stdout",
     "output_type": "stream",
     "text": [
      "Collection 'math_questions' size: count=30605\n",
      "--- 200 / 1000 ---\n"
     ]
    },
    {
     "name": "stderr",
     "output_type": "stream",
     "text": [
      "Generating embeddings: 100%|██████████| 100/100 [00:22<00:00,  4.42it/s]\n",
      "Inserting data into math_questions: 100%|██████████| 100/100 [00:00<00:00, 8294.55it/s]\n"
     ]
    },
    {
     "name": "stdout",
     "output_type": "stream",
     "text": [
      "Collection 'math_questions' size: count=30705\n",
      "--- 300 / 1000 ---\n"
     ]
    },
    {
     "name": "stderr",
     "output_type": "stream",
     "text": [
      "Generating embeddings: 100%|██████████| 100/100 [00:21<00:00,  4.71it/s]\n",
      "Inserting data into math_questions: 100%|██████████| 100/100 [00:00<00:00, 10094.59it/s]\n"
     ]
    },
    {
     "name": "stdout",
     "output_type": "stream",
     "text": [
      "Collection 'math_questions' size: count=30805\n",
      "--- 400 / 1000 ---\n"
     ]
    },
    {
     "name": "stderr",
     "output_type": "stream",
     "text": [
      "Generating embeddings: 100%|██████████| 100/100 [00:19<00:00,  5.13it/s]\n",
      "Inserting data into math_questions: 100%|██████████| 100/100 [00:00<00:00, 9310.95it/s]\n"
     ]
    },
    {
     "name": "stdout",
     "output_type": "stream",
     "text": [
      "Collection 'math_questions' size: count=30905\n",
      "--- 500 / 1000 ---\n"
     ]
    },
    {
     "name": "stderr",
     "output_type": "stream",
     "text": [
      "Generating embeddings: 100%|██████████| 100/100 [00:22<00:00,  4.50it/s]\n",
      "Inserting data into math_questions: 100%|██████████| 100/100 [00:00<00:00, 10592.21it/s]\n"
     ]
    },
    {
     "name": "stdout",
     "output_type": "stream",
     "text": [
      "Collection 'math_questions' size: count=31005\n",
      "--- 600 / 1000 ---\n"
     ]
    },
    {
     "name": "stderr",
     "output_type": "stream",
     "text": [
      "Generating embeddings: 100%|██████████| 100/100 [00:19<00:00,  5.05it/s]\n",
      "Inserting data into math_questions: 100%|██████████| 100/100 [00:00<00:00, 10705.49it/s]\n",
      "\u001b[32m2025-08-14 11:04:07.716\u001b[0m | \u001b[31m\u001b[1mERROR   \u001b[0m | \u001b[36m__main__\u001b[0m:\u001b[36mindex\u001b[0m:\u001b[36m19\u001b[0m - \u001b[31m\u001b[1mError indexing batch starting at row 600: The write operation timed out\u001b[0m\n"
     ]
    },
    {
     "name": "stdout",
     "output_type": "stream",
     "text": [
      "--- 700 / 1000 ---\n"
     ]
    },
    {
     "name": "stderr",
     "output_type": "stream",
     "text": [
      "Generating embeddings: 100%|██████████| 100/100 [00:21<00:00,  4.63it/s]\n",
      "Inserting data into math_questions: 100%|██████████| 100/100 [00:00<00:00, 11004.92it/s]\n"
     ]
    },
    {
     "name": "stdout",
     "output_type": "stream",
     "text": [
      "Collection 'math_questions' size: count=31105\n",
      "--- 800 / 1000 ---\n"
     ]
    },
    {
     "name": "stderr",
     "output_type": "stream",
     "text": [
      "Generating embeddings: 100%|██████████| 100/100 [00:21<00:00,  4.62it/s]\n",
      "Inserting data into math_questions: 100%|██████████| 100/100 [00:00<00:00, 32093.53it/s]\n"
     ]
    },
    {
     "name": "stdout",
     "output_type": "stream",
     "text": [
      "Collection 'math_questions' size: count=31205\n",
      "--- 900 / 1000 ---\n"
     ]
    },
    {
     "name": "stderr",
     "output_type": "stream",
     "text": [
      "Generating embeddings: 100%|██████████| 100/100 [00:21<00:00,  4.57it/s]\n",
      "Inserting data into math_questions: 100%|██████████| 100/100 [00:00<00:00, 9541.83it/s]\n"
     ]
    },
    {
     "name": "stdout",
     "output_type": "stream",
     "text": [
      "Collection 'math_questions' size: count=31305\n",
      "Processing numbers__is_prime_full.csv...\n",
      "--- 0 / 1000 ---\n"
     ]
    },
    {
     "name": "stderr",
     "output_type": "stream",
     "text": [
      "Generating embeddings: 100%|██████████| 100/100 [00:20<00:00,  4.89it/s]\n",
      "Inserting data into math_questions: 100%|██████████| 100/100 [00:00<00:00, 9881.51it/s]\n"
     ]
    },
    {
     "name": "stdout",
     "output_type": "stream",
     "text": [
      "Collection 'math_questions' size: count=31405\n",
      "--- 100 / 1000 ---\n"
     ]
    },
    {
     "name": "stderr",
     "output_type": "stream",
     "text": [
      "Generating embeddings: 100%|██████████| 100/100 [00:19<00:00,  5.05it/s]\n",
      "Inserting data into math_questions: 100%|██████████| 100/100 [00:00<00:00, 11001.16it/s]\n"
     ]
    },
    {
     "name": "stdout",
     "output_type": "stream",
     "text": [
      "Collection 'math_questions' size: count=31505\n",
      "--- 200 / 1000 ---\n"
     ]
    },
    {
     "name": "stderr",
     "output_type": "stream",
     "text": [
      "Generating embeddings: 100%|██████████| 100/100 [00:20<00:00,  4.96it/s]\n",
      "Inserting data into math_questions: 100%|██████████| 100/100 [00:00<00:00, 8651.26it/s]\n"
     ]
    },
    {
     "name": "stdout",
     "output_type": "stream",
     "text": [
      "Collection 'math_questions' size: count=31605\n",
      "--- 300 / 1000 ---\n"
     ]
    },
    {
     "name": "stderr",
     "output_type": "stream",
     "text": [
      "Generating embeddings: 100%|██████████| 100/100 [00:19<00:00,  5.06it/s]\n",
      "Inserting data into math_questions: 100%|██████████| 100/100 [00:00<00:00, 9921.71it/s]\n"
     ]
    },
    {
     "name": "stdout",
     "output_type": "stream",
     "text": [
      "Collection 'math_questions' size: count=31705\n",
      "--- 400 / 1000 ---\n"
     ]
    },
    {
     "name": "stderr",
     "output_type": "stream",
     "text": [
      "Generating embeddings: 100%|██████████| 100/100 [00:20<00:00,  4.99it/s]\n",
      "Inserting data into math_questions: 100%|██████████| 100/100 [00:00<00:00, 17440.66it/s]\n"
     ]
    },
    {
     "name": "stdout",
     "output_type": "stream",
     "text": [
      "Collection 'math_questions' size: count=31805\n",
      "--- 500 / 1000 ---\n"
     ]
    },
    {
     "name": "stderr",
     "output_type": "stream",
     "text": [
      "Generating embeddings: 100%|██████████| 100/100 [00:20<00:00,  4.86it/s]\n",
      "Inserting data into math_questions: 100%|██████████| 100/100 [00:00<00:00, 9540.10it/s]\n"
     ]
    },
    {
     "name": "stdout",
     "output_type": "stream",
     "text": [
      "Collection 'math_questions' size: count=31905\n",
      "--- 600 / 1000 ---\n"
     ]
    },
    {
     "name": "stderr",
     "output_type": "stream",
     "text": [
      "Generating embeddings: 100%|██████████| 100/100 [00:19<00:00,  5.16it/s]\n",
      "Inserting data into math_questions: 100%|██████████| 100/100 [00:00<00:00, 23859.74it/s]\n"
     ]
    },
    {
     "name": "stdout",
     "output_type": "stream",
     "text": [
      "Collection 'math_questions' size: count=32005\n",
      "--- 700 / 1000 ---\n"
     ]
    },
    {
     "name": "stderr",
     "output_type": "stream",
     "text": [
      "Generating embeddings: 100%|██████████| 100/100 [00:20<00:00,  4.77it/s]\n",
      "Inserting data into math_questions: 100%|██████████| 100/100 [00:00<00:00, 9761.91it/s]\n"
     ]
    },
    {
     "name": "stdout",
     "output_type": "stream",
     "text": [
      "Collection 'math_questions' size: count=32105\n",
      "--- 800 / 1000 ---\n"
     ]
    },
    {
     "name": "stderr",
     "output_type": "stream",
     "text": [
      "Generating embeddings: 100%|██████████| 100/100 [00:20<00:00,  4.92it/s]\n",
      "Inserting data into math_questions: 100%|██████████| 100/100 [00:00<00:00, 10432.04it/s]\n"
     ]
    },
    {
     "name": "stdout",
     "output_type": "stream",
     "text": [
      "Collection 'math_questions' size: count=32205\n",
      "--- 900 / 1000 ---\n"
     ]
    },
    {
     "name": "stderr",
     "output_type": "stream",
     "text": [
      "Generating embeddings: 100%|██████████| 100/100 [00:42<00:00,  2.33it/s]\n",
      "Inserting data into math_questions: 100%|██████████| 100/100 [00:00<00:00, 11124.59it/s]\n"
     ]
    },
    {
     "name": "stdout",
     "output_type": "stream",
     "text": [
      "Collection 'math_questions' size: count=32305\n",
      "Processing comparison__sort_full.csv...\n",
      "--- 0 / 1000 ---\n"
     ]
    },
    {
     "name": "stderr",
     "output_type": "stream",
     "text": [
      "Generating embeddings: 100%|██████████| 100/100 [00:20<00:00,  4.98it/s]\n",
      "Inserting data into math_questions: 100%|██████████| 100/100 [00:00<00:00, 13827.53it/s]\n"
     ]
    },
    {
     "name": "stdout",
     "output_type": "stream",
     "text": [
      "Collection 'math_questions' size: count=32405\n",
      "--- 100 / 1000 ---\n"
     ]
    },
    {
     "name": "stderr",
     "output_type": "stream",
     "text": [
      "Generating embeddings: 100%|██████████| 100/100 [00:43<00:00,  2.29it/s]\n",
      "Inserting data into math_questions: 100%|██████████| 100/100 [00:00<00:00, 24237.53it/s]\n"
     ]
    },
    {
     "name": "stdout",
     "output_type": "stream",
     "text": [
      "Collection 'math_questions' size: count=32505\n",
      "--- 200 / 1000 ---\n"
     ]
    },
    {
     "name": "stderr",
     "output_type": "stream",
     "text": [
      "Generating embeddings: 100%|██████████| 100/100 [00:39<00:00,  2.50it/s]\n",
      "Inserting data into math_questions: 100%|██████████| 100/100 [00:00<00:00, 9509.38it/s]\n"
     ]
    },
    {
     "name": "stdout",
     "output_type": "stream",
     "text": [
      "Collection 'math_questions' size: count=32605\n",
      "--- 300 / 1000 ---\n"
     ]
    },
    {
     "name": "stderr",
     "output_type": "stream",
     "text": [
      "Generating embeddings: 100%|██████████| 100/100 [00:23<00:00,  4.29it/s]\n",
      "Inserting data into math_questions: 100%|██████████| 100/100 [00:00<00:00, 8735.40it/s]\n"
     ]
    },
    {
     "name": "stdout",
     "output_type": "stream",
     "text": [
      "Collection 'math_questions' size: count=32705\n",
      "--- 400 / 1000 ---\n"
     ]
    },
    {
     "name": "stderr",
     "output_type": "stream",
     "text": [
      "Generating embeddings: 100%|██████████| 100/100 [00:22<00:00,  4.43it/s]\n",
      "Inserting data into math_questions: 100%|██████████| 100/100 [00:00<00:00, 11862.73it/s]\n"
     ]
    },
    {
     "name": "stdout",
     "output_type": "stream",
     "text": [
      "Collection 'math_questions' size: count=32805\n",
      "--- 500 / 1000 ---\n"
     ]
    },
    {
     "name": "stderr",
     "output_type": "stream",
     "text": [
      "Generating embeddings: 100%|██████████| 100/100 [00:22<00:00,  4.52it/s]\n",
      "Inserting data into math_questions: 100%|██████████| 100/100 [00:00<00:00, 8631.32it/s]\n"
     ]
    },
    {
     "name": "stdout",
     "output_type": "stream",
     "text": [
      "Collection 'math_questions' size: count=32905\n",
      "--- 600 / 1000 ---\n"
     ]
    },
    {
     "name": "stderr",
     "output_type": "stream",
     "text": [
      "Generating embeddings: 100%|██████████| 100/100 [00:21<00:00,  4.73it/s]\n",
      "Inserting data into math_questions: 100%|██████████| 100/100 [00:00<00:00, 10508.88it/s]\n"
     ]
    },
    {
     "name": "stdout",
     "output_type": "stream",
     "text": [
      "Collection 'math_questions' size: count=33005\n",
      "--- 700 / 1000 ---\n"
     ]
    },
    {
     "name": "stderr",
     "output_type": "stream",
     "text": [
      "Generating embeddings: 100%|██████████| 100/100 [00:19<00:00,  5.11it/s]\n",
      "Inserting data into math_questions: 100%|██████████| 100/100 [00:00<00:00, 11786.72it/s]\n"
     ]
    },
    {
     "name": "stdout",
     "output_type": "stream",
     "text": [
      "Collection 'math_questions' size: count=33105\n",
      "--- 800 / 1000 ---\n"
     ]
    },
    {
     "name": "stderr",
     "output_type": "stream",
     "text": [
      "Generating embeddings: 100%|██████████| 100/100 [00:19<00:00,  5.12it/s]\n",
      "Inserting data into math_questions: 100%|██████████| 100/100 [00:00<00:00, 35499.82it/s]\n"
     ]
    },
    {
     "name": "stdout",
     "output_type": "stream",
     "text": [
      "Collection 'math_questions' size: count=33205\n",
      "--- 900 / 1000 ---\n"
     ]
    },
    {
     "name": "stderr",
     "output_type": "stream",
     "text": [
      "Generating embeddings: 100%|██████████| 100/100 [00:21<00:00,  4.68it/s]\n",
      "Inserting data into math_questions: 100%|██████████| 100/100 [00:00<00:00, 9571.01it/s]\n"
     ]
    },
    {
     "name": "stdout",
     "output_type": "stream",
     "text": [
      "Collection 'math_questions' size: count=33305\n"
     ]
    }
   ],
   "source": [
    "from src.utils.folders_utils import get_repo_folder\n",
    "import pandas as pd\n",
    "from pathlib import Path\n",
    "\n",
    "repo_folder = get_repo_folder()\n",
    "print(f\"Repository folder: {repo_folder}\")\n",
    "\n",
    "\n",
    "directory = Path(repo_folder / \"src/data/DB_questions/Math/math_dataset_csvs\")\n",
    "\n",
    "dfs = []\n",
    "\n",
    "# Loop through all CSV files\n",
    "for file_path in directory.glob(\"*.csv\"):\n",
    "    if \"algebra__linear_1d_full.csv\" in file_path.name or \"mini\" in file_path.name \\\n",
    "        or \"algebra__polynomial_roots_full\" in file_path.name:\n",
    "        continue\n",
    "    print(f\"Processing {file_path.name}...\")\n",
    "\n",
    "    df = pd.read_csv(file_path)[22000:23000]\n",
    "\n",
    "    df[\"question_description\"] = df.apply(lambda row: f\"Topic: {row['module']}\\nQuestion: {row['question']}\", axis=1)\n",
    "\n",
    "    index(df)"
   ]
  },
  {
   "cell_type": "code",
   "execution_count": null,
   "id": "6c3f031c",
   "metadata": {},
   "outputs": [],
   "source": [
    "dfs[0]\n"
   ]
  }
 ],
 "metadata": {
  "kernelspec": {
   "display_name": "private_teacher_agent",
   "language": "python",
   "name": "python3"
  },
  "language_info": {
   "codemirror_mode": {
    "name": "ipython",
    "version": 3
   },
   "file_extension": ".py",
   "mimetype": "text/x-python",
   "name": "python",
   "nbconvert_exporter": "python",
   "pygments_lexer": "ipython3",
   "version": "3.11.13"
  }
 },
 "nbformat": 4,
 "nbformat_minor": 5
}
