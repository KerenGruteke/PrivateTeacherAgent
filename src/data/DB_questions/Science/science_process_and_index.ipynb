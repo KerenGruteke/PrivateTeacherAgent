{
 "cells": [
  {
   "cell_type": "markdown",
   "id": "515488ea",
   "metadata": {},
   "source": [
    "# Preprocess"
   ]
  },
  {
   "cell_type": "code",
   "execution_count": null,
   "id": "f167dab9",
   "metadata": {},
   "outputs": [],
   "source": [
    "from datasets import load_dataset\n",
    "\n",
    "# Load all splits\n",
    "ds = load_dataset(\"derek-thomas/ScienceQA\")\n",
    "\n",
    "# Or just load a specific split\n",
    "ds_test = load_dataset(\"derek-thomas/ScienceQA\", split=\"test\")\n"
   ]
  },
  {
   "cell_type": "code",
   "execution_count": null,
   "id": "e25a1629",
   "metadata": {},
   "outputs": [],
   "source": [
    "ds_test"
   ]
  },
  {
   "cell_type": "code",
   "execution_count": null,
   "id": "75bf2932",
   "metadata": {},
   "outputs": [],
   "source": [
    "print(ds[\"train\"].features)\n",
    "print(ds[\"test\"][0])"
   ]
  },
  {
   "cell_type": "code",
   "execution_count": null,
   "id": "20bc8b8c",
   "metadata": {},
   "outputs": [],
   "source": [
    "from datasets import load_dataset\n",
    "import pandas as pd\n",
    "\n",
    "ds = load_dataset(\"derek-thomas/ScienceQA\", split=\"train\")\n",
    "\n",
    "rows = []\n",
    "for i, item in enumerate(ds):\n",
    "    if \"image\" in item and item[\"image\"] is None:\n",
    "        continue\n",
    "    rows.append({\n",
    "        \"question\": item[\"question\"],\n",
    "        \"choices\": \"|\".join(item[\"choices\"]),  # or JSON list\n",
    "        \"answer_index\": item[\"answer\"],\n",
    "        \"lecture\": item.get(\"lecture\", \"\"),\n",
    "        \"solution\": item.get(\"solution\", \"There is no solution provided.\"),  # Default message if no solution\n",
    "        \"hint\": item.get(\"hint\", \"There is no hint provided.\"),  # Default message if no hint\n",
    "        \"task\": item.get(\"task\",\"\"),\n",
    "        \"difficulty\": item.get(\"difficulty\", \"unknown\"),  # Default to 'unknown' if not present\n",
    "        \"subject\": item.get(\"subject\", \"unknown\"),  # Default to 'unknown' if not present\n",
    "        \"topic\": item.get(\"topic\", \"unknown\"),  # Default to 'unknown' if not present\n",
    "        \"category\": item.get(\"category\", \"unknown\"),  # Default to 'unknown' if not present\n",
    "        \"skill\": item.get(\"skill\", \"unknown\")  # Default to 'unknown' if not present\n",
    "    })\n",
    "    if i <10:  # Print first 10 items\n",
    "        print(f\"Item {i}: {item['question']} | Choices: {item['choices']} | Answer Index: {item['answer']} \\n Lecture: {item.get('lecture', '')} \\n Solution: {item.get('solution', '')}\\n\")\n",
    "\n",
    "\n",
    "df = pd.DataFrame(rows)\n",
    "df['question_full'] = df['category'] + \" - \" + df['topic'] + \" - \" + df['skill'] + \" - \" + df['question']\n",
    "\n",
    "df.to_csv(\"scienceqa_text_only.csv\", index=False)\n"
   ]
  },
  {
   "cell_type": "code",
   "execution_count": null,
   "id": "8687dc53",
   "metadata": {},
   "outputs": [],
   "source": [
    "import pandas as pd\n",
    "\n",
    "check_df = pd.read_csv(\"scienceqa.csv\")\n",
    "check_df['question_description'] = \"Category: \" + check_df['category'] + \"\\nTopic: \" + check_df['topic'] + \"\\nSkill: \" + check_df['skill'] + \"\\nQuestion: \" + check_df['question']\n",
    "check_df"
   ]
  },
  {
   "cell_type": "code",
   "execution_count": null,
   "id": "3e97e900",
   "metadata": {},
   "outputs": [],
   "source": [
    "\n",
    "print(check_df['question_description'].iloc[60])"
   ]
  },
  {
   "cell_type": "code",
   "execution_count": null,
   "id": "2f07d20c",
   "metadata": {},
   "outputs": [],
   "source": [
    "check_df['task'].unique()"
   ]
  },
  {
   "cell_type": "code",
   "execution_count": null,
   "id": "48dca355",
   "metadata": {},
   "outputs": [],
   "source": [
    "check_df['difficulty'].unique()"
   ]
  },
  {
   "cell_type": "code",
   "execution_count": null,
   "id": "e2559707",
   "metadata": {},
   "outputs": [],
   "source": [
    "len(check_df[check_df['solution'].notna()]['solution'])"
   ]
  },
  {
   "cell_type": "code",
   "execution_count": null,
   "id": "37829fd7",
   "metadata": {},
   "outputs": [],
   "source": [
    "check_df.iloc[3]"
   ]
  },
  {
   "cell_type": "code",
   "execution_count": null,
   "id": "77bde881",
   "metadata": {},
   "outputs": [],
   "source": [
    "# calc length of lecture\n",
    "check_df['lecture_length'] = check_df['lecture'].apply(lambda x: len(str(x).split()) if x is not None else 0)\n",
    "# stats of lecture length\n",
    "print(check_df['lecture_length'].describe())"
   ]
  },
  {
   "cell_type": "code",
   "execution_count": null,
   "id": "846fe043",
   "metadata": {},
   "outputs": [],
   "source": [
    "# change name of column answer_index -> correct_answer_index\n",
    "check_df.rename(columns={'answer_index': 'correct_answer_index'}, inplace=True)\n",
    "\n",
    "# select relevant columns\n",
    "select_columns = [\n",
    "    'question_description', \n",
    "    'category', \n",
    "    'topic', \n",
    "    'skill',\n",
    "    'lecture', \n",
    "    'question', \n",
    "    'choices', \n",
    "    'correct_answer_index', \n",
    "    'solution', \n",
    "    'hint'\n",
    "]\n",
    "\n",
    "df_to_index = check_df[select_columns]\n",
    "df_to_index.to_csv(\"science_questions_to_index.csv\", index=False)\n",
    "df_to_index"
   ]
  },
  {
   "cell_type": "code",
   "execution_count": null,
   "id": "d2a7f185",
   "metadata": {},
   "outputs": [],
   "source": [
    "import pandas as pd\n",
    "df_to_index = pd.read_csv(\"science_questions_to_index.csv\")\n",
    "df_to_index"
   ]
  },
  {
   "cell_type": "code",
   "execution_count": null,
   "id": "81789158",
   "metadata": {},
   "outputs": [],
   "source": [
    "df_to_index = pd.read_csv(\"science_questions_to_index.csv\")\n",
    "\n",
    "# drop na by col question and col answer\n",
    "print(len(df_to_index))\n",
    "df_to_index = df_to_index.dropna(subset=[\"question\", \"correct_answer_index\"])\n",
    "df_to_index = df_to_index.reset_index(drop=True)\n",
    "print(len(df_to_index))\n",
    "\n",
    "# df_to_index.to_csv(\"science_questions_to_index.csv\", index=False)"
   ]
  },
  {
   "cell_type": "code",
   "execution_count": null,
   "id": "0a7662ee",
   "metadata": {},
   "outputs": [],
   "source": [
    "# filter by payload size - we'll filter out rows that have length greater than 3000 characters (in all columns together)\n",
    "print(len(df_to_index))\n",
    "filtered = df_to_index[df_to_index.apply(lambda x: x.str.len().sum() <= 3000, axis=1)]\n",
    "filtered = filtered.reset_index(drop=True)\n",
    "print(len(filtered))\n",
    "\n",
    "filtered.to_csv(\"science_questions_to_index.csv\", index=False)"
   ]
  },
  {
   "cell_type": "markdown",
   "id": "539515d2",
   "metadata": {},
   "source": [
    "# Index"
   ]
  },
  {
   "cell_type": "code",
   "execution_count": null,
   "id": "80978877",
   "metadata": {},
   "outputs": [],
   "source": [
    "import pandas as pd\n",
    "df_to_index = pd.read_csv(\"science_questions_to_index.csv\")\n",
    "df_to_index"
   ]
  },
  {
   "cell_type": "code",
   "execution_count": null,
   "id": "0740ece8",
   "metadata": {},
   "outputs": [],
   "source": [
    "# drop duplicates by question_description\n",
    "print(len(df_to_index))\n",
    "dedup = df_to_index.drop_duplicates(subset=[\"question_description\"])\n",
    "print(len(dedup))\n",
    "df_to_index = dedup.reset_index(drop=True)\n",
    "df_to_index.to_csv(\"science_questions_to_index.csv\", index=False)"
   ]
  },
  {
   "cell_type": "code",
   "execution_count": null,
   "id": "98fcbfc8",
   "metadata": {},
   "outputs": [],
   "source": [
    "from src.data.index_and_search import index_df\n",
    "from loguru import logger\n",
    "\n",
    "# run in batches to avoid memory issues - index every 100 rows in the df\n",
    "n = len(df_to_index)\n",
    "for i in range(0, n, 100):\n",
    "    batch_df = df_to_index.iloc[i:i+100]\n",
    "    print(f\"--- {i} / {n} ---\")\n",
    "    try:\n",
    "        index_df(\n",
    "            df=batch_df, \n",
    "            index_by_col=\"question_description\", \n",
    "            need_to_embed_col=True, \n",
    "            id_col=\"question_description\",\n",
    "            collection_name=\"science_questions\",\n",
    "        )\n",
    "    except Exception as e:\n",
    "        logger.error(f\"Error indexing batch starting at row {i}: {e}\")\n"
   ]
  },
  {
   "cell_type": "code",
   "execution_count": 16,
   "id": "83afdaa8",
   "metadata": {},
   "outputs": [
    {
     "name": "stderr",
     "output_type": "stream",
     "text": [
      "Generating embeddings: 100%|██████████| 1/1 [00:01<00:00,  1.10s/it]\n"
     ]
    },
    {
     "name": "stdout",
     "output_type": "stream",
     "text": [
      "Search results for query '\n",
      "Category: Geography\n",
      "Topic: maps\n",
      "Skill: reading maps\n",
      "': \n",
      "[{'question_description': 'Category: Geography\\nTopic: geography\\nSkill: Identify oceans and continents\\nQuestion: Which continent is highlighted?', 'category': 'Geography', 'topic': 'geography', 'skill': 'Identify oceans and continents', 'lecture': 'A continent is one of the seven largest areas of land on earth.', 'question': 'Which continent is highlighted?', 'choices': 'Africa|Asia|Europe', 'correct_answer_index': 2, 'solution': 'This continent is Europe.', 'hint': None}, {'question_description': 'Category: Maps\\nTopic: geography\\nSkill: Read a map: cardinal directions\\nQuestion: Which of these states is farthest south?', 'category': 'Maps', 'topic': 'geography', 'skill': 'Read a map: cardinal directions', 'lecture': 'Maps have four cardinal directions, or main directions. Those directions are north, south, east, and west.\\nA compass rose is a set of arrows that point to the cardinal directions. A compass rose usually shows only the first letter of each cardinal direction.\\nThe north arrow points to the North Pole. On most maps, north is at the top of the map.', 'question': 'Which of these states is farthest south?', 'choices': 'Colorado|Maine|South Dakota|Massachusetts', 'correct_answer_index': 0, 'solution': 'To find the answer, look at the compass rose. Look at which way the south arrow is pointing. Colorado is farthest south.', 'hint': None}, {'question_description': 'Category: Geography\\nTopic: geography\\nSkill: Read a map: cardinal directions\\nQuestion: Which of these states is farthest south?', 'category': 'Geography', 'topic': 'geography', 'skill': 'Read a map: cardinal directions', 'lecture': 'Maps have four cardinal directions, or main directions. Those directions are north, south, east, and west.\\nA compass rose is a set of arrows that point to the cardinal directions. A compass rose usually shows only the first letter of each cardinal direction.\\nThe north arrow points to the North Pole. On most maps, north is at the top of the map.', 'question': 'Which of these states is farthest south?', 'choices': 'Nebraska|Michigan|Vermont|Maine', 'correct_answer_index': 0, 'solution': 'To find the answer, look at the compass rose. Look at which way the south arrow is pointing. Nebraska is farthest south.', 'hint': None}, {'question_description': 'Category: Maps\\nTopic: geography\\nSkill: Use lines of latitude and longitude\\nQuestion: Which of these continents does the equator intersect?', 'category': 'Maps', 'topic': 'geography', 'skill': 'Use lines of latitude and longitude', 'lecture': 'Lines of latitude and lines of longitude are imaginary lines drawn on some globes and maps. They can help you find places on globes and maps.\\nLines of latitude show how far north or south a place is. We use units called degrees to describe how far a place is from the equator. The equator is the line located at 0° latitude. We start counting degrees from there.\\nLines north of the equator are labeled N for north. Lines south of the equator are labeled S for south. Lines of latitude are also called parallels because each line is parallel to the equator.\\nLines of longitude are also called meridians. They show how far east or west a place is. We use degrees to help describe how far a place is from the prime meridian. The prime meridian is the line located at 0° longitude. Lines west of the prime meridian are labeled W. Lines east of the prime meridian are labeled E. Meridians meet at the north and south poles.\\nThe equator goes all the way around the earth, but the prime meridian is different. It only goes from the North Pole to the South Pole on one side of the earth. On the opposite side of the globe is another special meridian. It is labeled both 180°E and 180°W.\\nTogether, lines of latitude and lines of longitude form a grid. You can use this grid to find the exact location of a place.', 'question': 'Which of these continents does the equator intersect?', 'choices': 'North America|Africa|Antarctica', 'correct_answer_index': 1, 'solution': 'The equator is the line at 0° latitude. It intersects Africa. It does not intersect Antarctica or North America.', 'hint': None}]\n"
     ]
    }
   ],
   "source": [
    "from src.data.index_and_search import DB\n",
    "\n",
    "query = \"\"\"\n",
    "Category: Geography\n",
    "Topic: maps\n",
    "Skill: reading maps\n",
    "\"\"\"\n",
    "\n",
    "db = DB()\n",
    "results = db.search_by_query_vec(collection_name=\"science_questions\", query=query, top_k=4)\n",
    "print(f\"Search results for query '{query}': \\n{results}\")\n"
   ]
  },
  {
   "cell_type": "code",
   "execution_count": 17,
   "id": "c168ece9",
   "metadata": {},
   "outputs": [
    {
     "data": {
      "text/plain": [
       "{'question_description': 'Category: Geography\\nTopic: geography\\nSkill: Identify oceans and continents\\nQuestion: Which continent is highlighted?',\n",
       " 'category': 'Geography',\n",
       " 'topic': 'geography',\n",
       " 'skill': 'Identify oceans and continents',\n",
       " 'lecture': 'A continent is one of the seven largest areas of land on earth.',\n",
       " 'question': 'Which continent is highlighted?',\n",
       " 'choices': 'Africa|Asia|Europe',\n",
       " 'correct_answer_index': 2,\n",
       " 'solution': 'This continent is Europe.',\n",
       " 'hint': None}"
      ]
     },
     "execution_count": 17,
     "metadata": {},
     "output_type": "execute_result"
    }
   ],
   "source": [
    "results[0]"
   ]
  },
  {
   "cell_type": "code",
   "execution_count": 18,
   "id": "6cb20956",
   "metadata": {},
   "outputs": [
    {
     "data": {
      "text/plain": [
       "{'question_description': 'Category: Maps\\nTopic: geography\\nSkill: Read a map: cardinal directions\\nQuestion: Which of these states is farthest south?',\n",
       " 'category': 'Maps',\n",
       " 'topic': 'geography',\n",
       " 'skill': 'Read a map: cardinal directions',\n",
       " 'lecture': 'Maps have four cardinal directions, or main directions. Those directions are north, south, east, and west.\\nA compass rose is a set of arrows that point to the cardinal directions. A compass rose usually shows only the first letter of each cardinal direction.\\nThe north arrow points to the North Pole. On most maps, north is at the top of the map.',\n",
       " 'question': 'Which of these states is farthest south?',\n",
       " 'choices': 'Colorado|Maine|South Dakota|Massachusetts',\n",
       " 'correct_answer_index': 0,\n",
       " 'solution': 'To find the answer, look at the compass rose. Look at which way the south arrow is pointing. Colorado is farthest south.',\n",
       " 'hint': None}"
      ]
     },
     "execution_count": 18,
     "metadata": {},
     "output_type": "execute_result"
    }
   ],
   "source": [
    "results[1]"
   ]
  },
  {
   "cell_type": "code",
   "execution_count": 19,
   "id": "2ae3034b",
   "metadata": {},
   "outputs": [
    {
     "data": {
      "text/plain": [
       "{'question_description': 'Category: Geography\\nTopic: geography\\nSkill: Read a map: cardinal directions\\nQuestion: Which of these states is farthest south?',\n",
       " 'category': 'Geography',\n",
       " 'topic': 'geography',\n",
       " 'skill': 'Read a map: cardinal directions',\n",
       " 'lecture': 'Maps have four cardinal directions, or main directions. Those directions are north, south, east, and west.\\nA compass rose is a set of arrows that point to the cardinal directions. A compass rose usually shows only the first letter of each cardinal direction.\\nThe north arrow points to the North Pole. On most maps, north is at the top of the map.',\n",
       " 'question': 'Which of these states is farthest south?',\n",
       " 'choices': 'Nebraska|Michigan|Vermont|Maine',\n",
       " 'correct_answer_index': 0,\n",
       " 'solution': 'To find the answer, look at the compass rose. Look at which way the south arrow is pointing. Nebraska is farthest south.',\n",
       " 'hint': None}"
      ]
     },
     "execution_count": 19,
     "metadata": {},
     "output_type": "execute_result"
    }
   ],
   "source": [
    "results[2]"
   ]
  },
  {
   "cell_type": "code",
   "execution_count": 20,
   "id": "254b2f43",
   "metadata": {},
   "outputs": [
    {
     "data": {
      "text/plain": [
       "{'question_description': 'Category: Maps\\nTopic: geography\\nSkill: Use lines of latitude and longitude\\nQuestion: Which of these continents does the equator intersect?',\n",
       " 'category': 'Maps',\n",
       " 'topic': 'geography',\n",
       " 'skill': 'Use lines of latitude and longitude',\n",
       " 'lecture': 'Lines of latitude and lines of longitude are imaginary lines drawn on some globes and maps. They can help you find places on globes and maps.\\nLines of latitude show how far north or south a place is. We use units called degrees to describe how far a place is from the equator. The equator is the line located at 0° latitude. We start counting degrees from there.\\nLines north of the equator are labeled N for north. Lines south of the equator are labeled S for south. Lines of latitude are also called parallels because each line is parallel to the equator.\\nLines of longitude are also called meridians. They show how far east or west a place is. We use degrees to help describe how far a place is from the prime meridian. The prime meridian is the line located at 0° longitude. Lines west of the prime meridian are labeled W. Lines east of the prime meridian are labeled E. Meridians meet at the north and south poles.\\nThe equator goes all the way around the earth, but the prime meridian is different. It only goes from the North Pole to the South Pole on one side of the earth. On the opposite side of the globe is another special meridian. It is labeled both 180°E and 180°W.\\nTogether, lines of latitude and lines of longitude form a grid. You can use this grid to find the exact location of a place.',\n",
       " 'question': 'Which of these continents does the equator intersect?',\n",
       " 'choices': 'North America|Africa|Antarctica',\n",
       " 'correct_answer_index': 1,\n",
       " 'solution': 'The equator is the line at 0° latitude. It intersects Africa. It does not intersect Antarctica or North America.',\n",
       " 'hint': None}"
      ]
     },
     "execution_count": 20,
     "metadata": {},
     "output_type": "execute_result"
    }
   ],
   "source": [
    "results[3]"
   ]
  },
  {
   "cell_type": "code",
   "execution_count": 4,
   "id": "0a16d625",
   "metadata": {},
   "outputs": [
    {
     "name": "stdout",
     "output_type": "stream",
     "text": [
      "Collection 'science_questions' size: count=1637\n",
      "Collection 'sat_questions' size: count=1379\n",
      "Collection 'history_questions' size: count=66300\n",
      "Collection 'math_questions' size: count=41405\n"
     ]
    }
   ],
   "source": [
    "from src.data.index_and_search import DB\n",
    "\n",
    "db = DB()\n",
    "db.print_collection_size(\"science_questions\")\n",
    "db.print_collection_size(\"sat_questions\")\n",
    "db.print_collection_size(\"history_questions\")\n",
    "db.print_collection_size(\"math_questions\")"
   ]
  }
 ],
 "metadata": {
  "kernelspec": {
   "display_name": "private_teacher_agent",
   "language": "python",
   "name": "python3"
  },
  "language_info": {
   "codemirror_mode": {
    "name": "ipython",
    "version": 3
   },
   "file_extension": ".py",
   "mimetype": "text/x-python",
   "name": "python",
   "nbconvert_exporter": "python",
   "pygments_lexer": "ipython3",
   "version": "3.11.13"
  }
 },
 "nbformat": 4,
 "nbformat_minor": 5
}
