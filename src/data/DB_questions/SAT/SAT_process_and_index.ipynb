{
 "cells": [
  {
   "cell_type": "markdown",
   "id": "adeedf79",
   "metadata": {},
   "source": [
    "# Preprocess"
   ]
  },
  {
   "cell_type": "code",
   "execution_count": null,
   "id": "6c3f031c",
   "metadata": {},
   "outputs": [],
   "source": [
    "from src.utils.folders_utils import get_repo_folder\n",
    "import pandas as pd\n",
    "\n",
    "repo_folder = get_repo_folder()\n",
    "print(f\"Repository folder: {repo_folder}\")\n",
    "\n",
    "sat_path = repo_folder / \"src/data/DB_questions/SAT/sat_world_and_us_history.csv\"\n",
    "print(sat_path)\n",
    "\n",
    "df = pd.read_csv(sat_path)\n",
    "df.head()"
   ]
  },
  {
   "cell_type": "code",
   "execution_count": null,
   "id": "84bf8061",
   "metadata": {},
   "outputs": [],
   "source": [
    "df"
   ]
  },
  {
   "cell_type": "code",
   "execution_count": null,
   "id": "0f266073",
   "metadata": {},
   "outputs": [],
   "source": [
    "df['subject'].unique()\n",
    "# rename col prompt -> question\n",
    "df.rename(columns={\"prompt\": \"question\", \"subject\": \"topic\"}, inplace=True)\n",
    "\n",
    "\n",
    "df['question_description'] = \"Topic: \" + df['topic'] + \"\\nQuestion: \" + df['question']\n",
    "\n",
    "df"
   ]
  },
  {
   "cell_type": "code",
   "execution_count": null,
   "id": "bdd4ac66",
   "metadata": {},
   "outputs": [],
   "source": [
    "select_cols_to_index = [\n",
    "    \"question_description\",\n",
    "    \"topic\",\n",
    "    \"question\",\n",
    "    \"A\",\n",
    "    \"B\",\n",
    "    \"C\",\n",
    "    \"D\",\n",
    "    \"E\",\n",
    "    \"answer\"\n",
    "]\n",
    "\n",
    "df_to_index = df[select_cols_to_index]\n",
    "df_to_index.to_csv(\"sat_questions_to_index.csv\", index=False)\n",
    "\n",
    "df_to_index"
   ]
  },
  {
   "cell_type": "code",
   "execution_count": null,
   "id": "97693a91",
   "metadata": {},
   "outputs": [],
   "source": [
    "df_to_index = pd.read_csv(\"sat_questions_to_index.csv\")\n",
    "\n",
    "# drop na by col question and col answer\n",
    "print(len(df_to_index))\n",
    "df_to_index = df_to_index.dropna(subset=[\"question\", \"answer\"])\n",
    "df_to_index = df_to_index.reset_index(drop=True)\n",
    "print(len(df_to_index))\n",
    "\n",
    "df_to_index.to_csv(\"sat_questions_to_index.csv\", index=False)"
   ]
  },
  {
   "cell_type": "code",
   "execution_count": null,
   "id": "2a860292",
   "metadata": {},
   "outputs": [],
   "source": [
    "# filter by payload size - we'll filter out rows that have length greater than 3000 characters (in all columns together)\n",
    "print(len(df_to_index))\n",
    "filtered = df_to_index[df_to_index.apply(lambda x: x.str.len().sum() <= 3000, axis=1)]\n",
    "filtered = filtered.reset_index(drop=True)\n",
    "print(len(filtered))\n",
    "\n",
    "# filtered.to_csv(\"SAT_questions_to_index.csv\", index=False)"
   ]
  },
  {
   "cell_type": "code",
   "execution_count": null,
   "id": "f9182950",
   "metadata": {},
   "outputs": [],
   "source": [
    "df_to_index.apply(lambda x: x.str.len().sum(), axis=1)"
   ]
  },
  {
   "cell_type": "code",
   "execution_count": null,
   "id": "ffe57af9",
   "metadata": {},
   "outputs": [],
   "source": [
    "# simple test for this: df_to_index[df_to_index.apply(lambda x: x.str.len().sum() <= 3000, axis=1)]\n",
    "\n",
    "simple_df = pd.DataFrame({\n",
    "    \"question_description\": [\n",
    "        \"This is a short question.\",\n",
    "        \"This is a very long question that exceeds the limit of 3000 characters. \"\n",
    "    ],\n",
    "    \"topic\": [\"History\", \"Geography\"],\n",
    "})\n",
    "simple_df.apply(lambda x: x.str.len().sum(), axis=1)"
   ]
  },
  {
   "cell_type": "markdown",
   "id": "d741f00d",
   "metadata": {},
   "source": [
    "# Index"
   ]
  },
  {
   "cell_type": "code",
   "execution_count": 1,
   "id": "d926c920",
   "metadata": {},
   "outputs": [
    {
     "data": {
      "text/html": [
       "<div>\n",
       "<style scoped>\n",
       "    .dataframe tbody tr th:only-of-type {\n",
       "        vertical-align: middle;\n",
       "    }\n",
       "\n",
       "    .dataframe tbody tr th {\n",
       "        vertical-align: top;\n",
       "    }\n",
       "\n",
       "    .dataframe thead th {\n",
       "        text-align: right;\n",
       "    }\n",
       "</style>\n",
       "<table border=\"1\" class=\"dataframe\">\n",
       "  <thead>\n",
       "    <tr style=\"text-align: right;\">\n",
       "      <th></th>\n",
       "      <th>question_description</th>\n",
       "      <th>topic</th>\n",
       "      <th>question</th>\n",
       "      <th>A</th>\n",
       "      <th>B</th>\n",
       "      <th>C</th>\n",
       "      <th>D</th>\n",
       "      <th>E</th>\n",
       "      <th>answer</th>\n",
       "    </tr>\n",
       "  </thead>\n",
       "  <tbody>\n",
       "    <tr>\n",
       "      <th>0</th>\n",
       "      <td>Topic: world_history\\nQuestion: Sumer and Egyp...</td>\n",
       "      <td>world_history</td>\n",
       "      <td>Sumer and Egypt were similar in all of the fol...</td>\n",
       "      <td>agricultural dependence on the silt left behin...</td>\n",
       "      <td>belief in a polytheistic religion centered on ...</td>\n",
       "      <td>enjoyment of protection from invasion by natur...</td>\n",
       "      <td>development of distinct systems of written lan...</td>\n",
       "      <td>engagement in trade with other nearby cultures</td>\n",
       "      <td>C</td>\n",
       "    </tr>\n",
       "    <tr>\n",
       "      <th>1</th>\n",
       "      <td>Topic: world_history\\nQuestion: A follower of ...</td>\n",
       "      <td>world_history</td>\n",
       "      <td>A follower of the Chinese philosophy of Daoism...</td>\n",
       "      <td>Government intrusiveness should be kept to a m...</td>\n",
       "      <td>Government works best when run by well-educate...</td>\n",
       "      <td>Government should be focused on strengthening ...</td>\n",
       "      <td>Governments that allow too much freedom are do...</td>\n",
       "      <td>Governments have an obligation to suppress ind...</td>\n",
       "      <td>A</td>\n",
       "    </tr>\n",
       "    <tr>\n",
       "      <th>2</th>\n",
       "      <td>Topic: world_history\\nQuestion: Which of these...</td>\n",
       "      <td>world_history</td>\n",
       "      <td>Which of these was NOT a characteristic of ear...</td>\n",
       "      <td>Ability to make and use simple tools</td>\n",
       "      <td>Tendency to live in permanent settlements</td>\n",
       "      <td>Reliance on hunting and gathering techniques</td>\n",
       "      <td>Propensity for creating artistic cave drawings</td>\n",
       "      <td>Mastery of fire for cooking and heating purposes</td>\n",
       "      <td>B</td>\n",
       "    </tr>\n",
       "    <tr>\n",
       "      <th>3</th>\n",
       "      <td>Topic: world_history\\nQuestion: Buddhism was f...</td>\n",
       "      <td>world_history</td>\n",
       "      <td>Buddhism was founded in part as a response to ...</td>\n",
       "      <td>Islam</td>\n",
       "      <td>Daoism</td>\n",
       "      <td>Judaism</td>\n",
       "      <td>Hinduism</td>\n",
       "      <td>Christianity</td>\n",
       "      <td>D</td>\n",
       "    </tr>\n",
       "    <tr>\n",
       "      <th>4</th>\n",
       "      <td>Topic: world_history\\nQuestion: The Kush city ...</td>\n",
       "      <td>world_history</td>\n",
       "      <td>The Kush city of Meroe rose to prominence main...</td>\n",
       "      <td>salt</td>\n",
       "      <td>iron</td>\n",
       "      <td>gold</td>\n",
       "      <td>grain</td>\n",
       "      <td>silver</td>\n",
       "      <td>B</td>\n",
       "    </tr>\n",
       "    <tr>\n",
       "      <th>...</th>\n",
       "      <td>...</td>\n",
       "      <td>...</td>\n",
       "      <td>...</td>\n",
       "      <td>...</td>\n",
       "      <td>...</td>\n",
       "      <td>...</td>\n",
       "      <td>...</td>\n",
       "      <td>...</td>\n",
       "      <td>...</td>\n",
       "    </tr>\n",
       "    <tr>\n",
       "      <th>1374</th>\n",
       "      <td>Topic: us_history\\nQuestion: The Election of 2...</td>\n",
       "      <td>us_history</td>\n",
       "      <td>The Election of 2000 was significant because</td>\n",
       "      <td>the Supreme Court of Florida decided the elect...</td>\n",
       "      <td>Katherine Harris, a Democrat, validated the el...</td>\n",
       "      <td>Al Gore won more popular votes than George W. ...</td>\n",
       "      <td>Jeb Bush, the brother of George W. Bush, was g...</td>\n",
       "      <td>George W. Bush was the first son to follow his...</td>\n",
       "      <td>C</td>\n",
       "    </tr>\n",
       "    <tr>\n",
       "      <th>1375</th>\n",
       "      <td>Topic: us_history\\nQuestion: In his 2001 \"War ...</td>\n",
       "      <td>us_history</td>\n",
       "      <td>In his 2001 \"War on Terror\" speech to Congress...</td>\n",
       "      <td>immediately close all terrorist camps.</td>\n",
       "      <td>release all foreign prisoners.</td>\n",
       "      <td>transfer all terrorists on Afghani soil to the...</td>\n",
       "      <td>hand over Saddam Hussein.</td>\n",
       "      <td>give U.S. troops access to terror camps to ens...</td>\n",
       "      <td>D</td>\n",
       "    </tr>\n",
       "    <tr>\n",
       "      <th>1376</th>\n",
       "      <td>Topic: us_history\\nQuestion: Mortgage-backed s...</td>\n",
       "      <td>us_history</td>\n",
       "      <td>Mortgage-backed securities are</td>\n",
       "      <td>bundles of subprime mortgages traded like stocks.</td>\n",
       "      <td>low-interest loans offered to people with trou...</td>\n",
       "      <td>another name for adjustable-rate mortgages.</td>\n",
       "      <td>recession-proof investments.</td>\n",
       "      <td>stable assets.</td>\n",
       "      <td>A</td>\n",
       "    </tr>\n",
       "    <tr>\n",
       "      <th>1377</th>\n",
       "      <td>Topic: us_history\\nQuestion: George W. Bush's ...</td>\n",
       "      <td>us_history</td>\n",
       "      <td>George W. Bush's immigration reform policy can...</td>\n",
       "      <td>amnesty for all people who immigrated to the U...</td>\n",
       "      <td>unrealistic, in that it refused to acknowledge...</td>\n",
       "      <td>a policy to deport immediately all illegal imm...</td>\n",
       "      <td>a pathway to citizenship for illegal immigrant...</td>\n",
       "      <td>a way to safeguard American jobs for U.S. citi...</td>\n",
       "      <td>D</td>\n",
       "    </tr>\n",
       "    <tr>\n",
       "      <th>1378</th>\n",
       "      <td>Topic: us_history\\nQuestion: The Bush Doctrine...</td>\n",
       "      <td>us_history</td>\n",
       "      <td>The Bush Doctrine refers to</td>\n",
       "      <td>a policy of unilateral, preemptive strikes aga...</td>\n",
       "      <td>a program of tax cuts to spark economic activity.</td>\n",
       "      <td>a policy of creating an international coalitio...</td>\n",
       "      <td>rebuilding the Gulf Coast after Hurricane Katr...</td>\n",
       "      <td>a systematic plan to encourage environmental i...</td>\n",
       "      <td>A</td>\n",
       "    </tr>\n",
       "  </tbody>\n",
       "</table>\n",
       "<p>1379 rows × 9 columns</p>\n",
       "</div>"
      ],
      "text/plain": [
       "                                   question_description          topic  \\\n",
       "0     Topic: world_history\\nQuestion: Sumer and Egyp...  world_history   \n",
       "1     Topic: world_history\\nQuestion: A follower of ...  world_history   \n",
       "2     Topic: world_history\\nQuestion: Which of these...  world_history   \n",
       "3     Topic: world_history\\nQuestion: Buddhism was f...  world_history   \n",
       "4     Topic: world_history\\nQuestion: The Kush city ...  world_history   \n",
       "...                                                 ...            ...   \n",
       "1374  Topic: us_history\\nQuestion: The Election of 2...     us_history   \n",
       "1375  Topic: us_history\\nQuestion: In his 2001 \"War ...     us_history   \n",
       "1376  Topic: us_history\\nQuestion: Mortgage-backed s...     us_history   \n",
       "1377  Topic: us_history\\nQuestion: George W. Bush's ...     us_history   \n",
       "1378  Topic: us_history\\nQuestion: The Bush Doctrine...     us_history   \n",
       "\n",
       "                                               question  \\\n",
       "0     Sumer and Egypt were similar in all of the fol...   \n",
       "1     A follower of the Chinese philosophy of Daoism...   \n",
       "2     Which of these was NOT a characteristic of ear...   \n",
       "3     Buddhism was founded in part as a response to ...   \n",
       "4     The Kush city of Meroe rose to prominence main...   \n",
       "...                                                 ...   \n",
       "1374       The Election of 2000 was significant because   \n",
       "1375  In his 2001 \"War on Terror\" speech to Congress...   \n",
       "1376                     Mortgage-backed securities are   \n",
       "1377  George W. Bush's immigration reform policy can...   \n",
       "1378                        The Bush Doctrine refers to   \n",
       "\n",
       "                                                      A  \\\n",
       "0     agricultural dependence on the silt left behin...   \n",
       "1     Government intrusiveness should be kept to a m...   \n",
       "2                  Ability to make and use simple tools   \n",
       "3                                                 Islam   \n",
       "4                                                  salt   \n",
       "...                                                 ...   \n",
       "1374  the Supreme Court of Florida decided the elect...   \n",
       "1375             immediately close all terrorist camps.   \n",
       "1376  bundles of subprime mortgages traded like stocks.   \n",
       "1377  amnesty for all people who immigrated to the U...   \n",
       "1378  a policy of unilateral, preemptive strikes aga...   \n",
       "\n",
       "                                                      B  \\\n",
       "0     belief in a polytheistic religion centered on ...   \n",
       "1     Government works best when run by well-educate...   \n",
       "2             Tendency to live in permanent settlements   \n",
       "3                                                Daoism   \n",
       "4                                                  iron   \n",
       "...                                                 ...   \n",
       "1374  Katherine Harris, a Democrat, validated the el...   \n",
       "1375                     release all foreign prisoners.   \n",
       "1376  low-interest loans offered to people with trou...   \n",
       "1377  unrealistic, in that it refused to acknowledge...   \n",
       "1378  a program of tax cuts to spark economic activity.   \n",
       "\n",
       "                                                      C  \\\n",
       "0     enjoyment of protection from invasion by natur...   \n",
       "1     Government should be focused on strengthening ...   \n",
       "2          Reliance on hunting and gathering techniques   \n",
       "3                                               Judaism   \n",
       "4                                                  gold   \n",
       "...                                                 ...   \n",
       "1374  Al Gore won more popular votes than George W. ...   \n",
       "1375  transfer all terrorists on Afghani soil to the...   \n",
       "1376        another name for adjustable-rate mortgages.   \n",
       "1377  a policy to deport immediately all illegal imm...   \n",
       "1378  a policy of creating an international coalitio...   \n",
       "\n",
       "                                                      D  \\\n",
       "0     development of distinct systems of written lan...   \n",
       "1     Governments that allow too much freedom are do...   \n",
       "2        Propensity for creating artistic cave drawings   \n",
       "3                                              Hinduism   \n",
       "4                                                 grain   \n",
       "...                                                 ...   \n",
       "1374  Jeb Bush, the brother of George W. Bush, was g...   \n",
       "1375                          hand over Saddam Hussein.   \n",
       "1376                       recession-proof investments.   \n",
       "1377  a pathway to citizenship for illegal immigrant...   \n",
       "1378  rebuilding the Gulf Coast after Hurricane Katr...   \n",
       "\n",
       "                                                      E answer  \n",
       "0        engagement in trade with other nearby cultures      C  \n",
       "1     Governments have an obligation to suppress ind...      A  \n",
       "2      Mastery of fire for cooking and heating purposes      B  \n",
       "3                                          Christianity      D  \n",
       "4                                                silver      B  \n",
       "...                                                 ...    ...  \n",
       "1374  George W. Bush was the first son to follow his...      C  \n",
       "1375  give U.S. troops access to terror camps to ens...      D  \n",
       "1376                                     stable assets.      A  \n",
       "1377  a way to safeguard American jobs for U.S. citi...      D  \n",
       "1378  a systematic plan to encourage environmental i...      A  \n",
       "\n",
       "[1379 rows x 9 columns]"
      ]
     },
     "execution_count": 1,
     "metadata": {},
     "output_type": "execute_result"
    }
   ],
   "source": [
    "import pandas as pd\n",
    "\n",
    "df_to_index = pd.read_csv(\"sat_questions_to_index.csv\")\n",
    "\n",
    "df_to_index"
   ]
  },
  {
   "cell_type": "code",
   "execution_count": 5,
   "id": "e25a1629",
   "metadata": {},
   "outputs": [
    {
     "name": "stderr",
     "output_type": "stream",
     "text": [
      "\u001b[32m2025-08-07 18:48:16.340\u001b[0m | \u001b[1mINFO    \u001b[0m | \u001b[36msrc.data.index_and_search\u001b[0m:\u001b[36mindex_df\u001b[0m:\u001b[36m172\u001b[0m - \u001b[1mEmbedding col 'question_description'...\u001b[0m\n"
     ]
    },
    {
     "name": "stdout",
     "output_type": "stream",
     "text": [
      "--- 0 / 1379 ---\n"
     ]
    },
    {
     "name": "stderr",
     "output_type": "stream",
     "text": [
      "Generating embeddings: 100%|██████████| 100/100 [00:23<00:00,  4.20it/s]\n",
      "Inserting data into sat_questions: 100%|██████████| 100/100 [00:00<00:00, 16453.41it/s]\n",
      "\u001b[32m2025-08-07 18:48:44.999\u001b[0m | \u001b[1mINFO    \u001b[0m | \u001b[36msrc.data.index_and_search\u001b[0m:\u001b[36mindex_df\u001b[0m:\u001b[36m172\u001b[0m - \u001b[1mEmbedding col 'question_description'...\u001b[0m\n"
     ]
    },
    {
     "name": "stdout",
     "output_type": "stream",
     "text": [
      "Collection 'sat_questions' size: count=100\n",
      "--- 100 / 1379 ---\n"
     ]
    },
    {
     "name": "stderr",
     "output_type": "stream",
     "text": [
      "Generating embeddings: 100%|██████████| 100/100 [00:24<00:00,  4.15it/s]\n",
      "Inserting data into sat_questions: 100%|██████████| 100/100 [00:00<00:00, 20129.12it/s]\n",
      "\u001b[32m2025-08-07 18:49:15.046\u001b[0m | \u001b[1mINFO    \u001b[0m | \u001b[36msrc.data.index_and_search\u001b[0m:\u001b[36mindex_df\u001b[0m:\u001b[36m172\u001b[0m - \u001b[1mEmbedding col 'question_description'...\u001b[0m\n"
     ]
    },
    {
     "name": "stdout",
     "output_type": "stream",
     "text": [
      "Collection 'sat_questions' size: count=200\n",
      "--- 200 / 1379 ---\n"
     ]
    },
    {
     "name": "stderr",
     "output_type": "stream",
     "text": [
      "Generating embeddings: 100%|██████████| 100/100 [00:24<00:00,  4.05it/s]\n",
      "Inserting data into sat_questions: 100%|██████████| 100/100 [00:00<00:00, 14112.26it/s]\n",
      "\u001b[32m2025-08-07 18:49:46.654\u001b[0m | \u001b[1mINFO    \u001b[0m | \u001b[36msrc.data.index_and_search\u001b[0m:\u001b[36mindex_df\u001b[0m:\u001b[36m172\u001b[0m - \u001b[1mEmbedding col 'question_description'...\u001b[0m\n"
     ]
    },
    {
     "name": "stdout",
     "output_type": "stream",
     "text": [
      "Collection 'sat_questions' size: count=300\n",
      "--- 300 / 1379 ---\n"
     ]
    },
    {
     "name": "stderr",
     "output_type": "stream",
     "text": [
      "Generating embeddings: 100%|██████████| 100/100 [00:23<00:00,  4.32it/s]\n",
      "Inserting data into sat_questions: 100%|██████████| 100/100 [00:00<00:00, 21336.37it/s]\n",
      "\u001b[32m2025-08-07 18:50:14.173\u001b[0m | \u001b[1mINFO    \u001b[0m | \u001b[36msrc.data.index_and_search\u001b[0m:\u001b[36mindex_df\u001b[0m:\u001b[36m172\u001b[0m - \u001b[1mEmbedding col 'question_description'...\u001b[0m\n"
     ]
    },
    {
     "name": "stdout",
     "output_type": "stream",
     "text": [
      "Collection 'sat_questions' size: count=400\n",
      "--- 400 / 1379 ---\n"
     ]
    },
    {
     "name": "stderr",
     "output_type": "stream",
     "text": [
      "Generating embeddings: 100%|██████████| 100/100 [00:24<00:00,  4.16it/s]\n",
      "Inserting data into sat_questions: 100%|██████████| 100/100 [00:00<00:00, 15391.94it/s]\n",
      "\u001b[32m2025-08-07 18:50:44.099\u001b[0m | \u001b[1mINFO    \u001b[0m | \u001b[36msrc.data.index_and_search\u001b[0m:\u001b[36mindex_df\u001b[0m:\u001b[36m172\u001b[0m - \u001b[1mEmbedding col 'question_description'...\u001b[0m\n"
     ]
    },
    {
     "name": "stdout",
     "output_type": "stream",
     "text": [
      "Collection 'sat_questions' size: count=500\n",
      "--- 500 / 1379 ---\n"
     ]
    },
    {
     "name": "stderr",
     "output_type": "stream",
     "text": [
      "Generating embeddings: 100%|██████████| 100/100 [00:25<00:00,  3.94it/s]\n",
      "Inserting data into sat_questions: 100%|██████████| 100/100 [00:00<00:00, 10329.27it/s]\n",
      "\u001b[32m2025-08-07 18:51:14.232\u001b[0m | \u001b[1mINFO    \u001b[0m | \u001b[36msrc.data.index_and_search\u001b[0m:\u001b[36mindex_df\u001b[0m:\u001b[36m172\u001b[0m - \u001b[1mEmbedding col 'question_description'...\u001b[0m\n"
     ]
    },
    {
     "name": "stdout",
     "output_type": "stream",
     "text": [
      "Collection 'sat_questions' size: count=600\n",
      "--- 600 / 1379 ---\n"
     ]
    },
    {
     "name": "stderr",
     "output_type": "stream",
     "text": [
      "Generating embeddings: 100%|██████████| 100/100 [00:24<00:00,  4.16it/s]\n",
      "Inserting data into sat_questions: 100%|██████████| 100/100 [00:00<00:00, 26324.63it/s]\n",
      "\u001b[32m2025-08-07 18:51:42.783\u001b[0m | \u001b[1mINFO    \u001b[0m | \u001b[36msrc.data.index_and_search\u001b[0m:\u001b[36mindex_df\u001b[0m:\u001b[36m172\u001b[0m - \u001b[1mEmbedding col 'question_description'...\u001b[0m\n"
     ]
    },
    {
     "name": "stdout",
     "output_type": "stream",
     "text": [
      "Collection 'sat_questions' size: count=700\n",
      "--- 700 / 1379 ---\n"
     ]
    },
    {
     "name": "stderr",
     "output_type": "stream",
     "text": [
      "Generating embeddings: 100%|██████████| 100/100 [00:24<00:00,  4.16it/s]\n",
      "Inserting data into sat_questions: 100%|██████████| 100/100 [00:00<00:00, 17253.41it/s]\n",
      "\u001b[32m2025-08-07 18:52:11.241\u001b[0m | \u001b[1mINFO    \u001b[0m | \u001b[36msrc.data.index_and_search\u001b[0m:\u001b[36mindex_df\u001b[0m:\u001b[36m172\u001b[0m - \u001b[1mEmbedding col 'question_description'...\u001b[0m\n"
     ]
    },
    {
     "name": "stdout",
     "output_type": "stream",
     "text": [
      "Collection 'sat_questions' size: count=800\n",
      "--- 800 / 1379 ---\n"
     ]
    },
    {
     "name": "stderr",
     "output_type": "stream",
     "text": [
      "Generating embeddings: 100%|██████████| 100/100 [00:23<00:00,  4.23it/s]\n",
      "Inserting data into sat_questions: 100%|██████████| 100/100 [00:00<00:00, 9635.88it/s]\n",
      "\u001b[32m2025-08-07 18:52:39.199\u001b[0m | \u001b[1mINFO    \u001b[0m | \u001b[36msrc.data.index_and_search\u001b[0m:\u001b[36mindex_df\u001b[0m:\u001b[36m172\u001b[0m - \u001b[1mEmbedding col 'question_description'...\u001b[0m\n"
     ]
    },
    {
     "name": "stdout",
     "output_type": "stream",
     "text": [
      "Collection 'sat_questions' size: count=900\n",
      "--- 900 / 1379 ---\n"
     ]
    },
    {
     "name": "stderr",
     "output_type": "stream",
     "text": [
      "Generating embeddings: 100%|██████████| 100/100 [00:25<00:00,  3.94it/s]\n",
      "Inserting data into sat_questions: 100%|██████████| 100/100 [00:00<00:00, 12159.52it/s]\n",
      "\u001b[32m2025-08-07 18:53:09.199\u001b[0m | \u001b[1mINFO    \u001b[0m | \u001b[36msrc.data.index_and_search\u001b[0m:\u001b[36mindex_df\u001b[0m:\u001b[36m172\u001b[0m - \u001b[1mEmbedding col 'question_description'...\u001b[0m\n"
     ]
    },
    {
     "name": "stdout",
     "output_type": "stream",
     "text": [
      "Collection 'sat_questions' size: count=1000\n",
      "--- 1000 / 1379 ---\n"
     ]
    },
    {
     "name": "stderr",
     "output_type": "stream",
     "text": [
      "Generating embeddings: 100%|██████████| 100/100 [00:23<00:00,  4.30it/s]\n",
      "Inserting data into sat_questions: 100%|██████████| 100/100 [00:00<00:00, 5732.27it/s]\n",
      "\u001b[32m2025-08-07 18:53:36.744\u001b[0m | \u001b[1mINFO    \u001b[0m | \u001b[36msrc.data.index_and_search\u001b[0m:\u001b[36mindex_df\u001b[0m:\u001b[36m172\u001b[0m - \u001b[1mEmbedding col 'question_description'...\u001b[0m\n"
     ]
    },
    {
     "name": "stdout",
     "output_type": "stream",
     "text": [
      "Collection 'sat_questions' size: count=1100\n",
      "--- 1100 / 1379 ---\n"
     ]
    },
    {
     "name": "stderr",
     "output_type": "stream",
     "text": [
      "Generating embeddings: 100%|██████████| 100/100 [00:24<00:00,  4.04it/s]\n",
      "Inserting data into sat_questions: 100%|██████████| 100/100 [00:00<00:00, 13813.87it/s]\n",
      "\u001b[32m2025-08-07 18:54:06.307\u001b[0m | \u001b[1mINFO    \u001b[0m | \u001b[36msrc.data.index_and_search\u001b[0m:\u001b[36mindex_df\u001b[0m:\u001b[36m172\u001b[0m - \u001b[1mEmbedding col 'question_description'...\u001b[0m\n"
     ]
    },
    {
     "name": "stdout",
     "output_type": "stream",
     "text": [
      "Collection 'sat_questions' size: count=1200\n",
      "--- 1200 / 1379 ---\n"
     ]
    },
    {
     "name": "stderr",
     "output_type": "stream",
     "text": [
      "Generating embeddings: 100%|██████████| 100/100 [00:23<00:00,  4.26it/s]\n",
      "Inserting data into sat_questions: 100%|██████████| 100/100 [00:00<00:00, 14028.71it/s]\n",
      "\u001b[32m2025-08-07 18:54:34.229\u001b[0m | \u001b[1mINFO    \u001b[0m | \u001b[36msrc.data.index_and_search\u001b[0m:\u001b[36mindex_df\u001b[0m:\u001b[36m172\u001b[0m - \u001b[1mEmbedding col 'question_description'...\u001b[0m\n"
     ]
    },
    {
     "name": "stdout",
     "output_type": "stream",
     "text": [
      "Collection 'sat_questions' size: count=1300\n",
      "--- 1300 / 1379 ---\n"
     ]
    },
    {
     "name": "stderr",
     "output_type": "stream",
     "text": [
      "Generating embeddings: 100%|██████████| 79/79 [00:24<00:00,  3.26it/s]\n",
      "Inserting data into sat_questions: 100%|██████████| 79/79 [00:00<00:00, 33690.90it/s]\n"
     ]
    },
    {
     "name": "stdout",
     "output_type": "stream",
     "text": [
      "Collection 'sat_questions' size: count=1379\n"
     ]
    }
   ],
   "source": [
    "from src.data.index_and_search import index_df\n",
    "from loguru import logger\n",
    "\n",
    "# run in batches to avoid memory issues - index every 100 rows in the df\n",
    "n = len(df_to_index)\n",
    "for i in range(0, n, 100):\n",
    "    batch_df = df_to_index.iloc[i:i+100]\n",
    "    print(f\"--- {i} / {n} ---\")\n",
    "    try:\n",
    "        index_df(\n",
    "            df=batch_df, \n",
    "            index_by_col=\"question_description\", \n",
    "            need_to_embed_col=True, \n",
    "            id_col=\"question_description\",\n",
    "            collection_name=\"sat_questions\",\n",
    "        )\n",
    "    except Exception as e:\n",
    "        logger.error(f\"Error indexing batch starting at row {i}: {e}\")\n"
   ]
  }
 ],
 "metadata": {
  "kernelspec": {
   "display_name": "private_teacher_agent",
   "language": "python",
   "name": "python3"
  },
  "language_info": {
   "codemirror_mode": {
    "name": "ipython",
    "version": 3
   },
   "file_extension": ".py",
   "mimetype": "text/x-python",
   "name": "python",
   "nbconvert_exporter": "python",
   "pygments_lexer": "ipython3",
   "version": "3.11.13"
  }
 },
 "nbformat": 4,
 "nbformat_minor": 5
}
