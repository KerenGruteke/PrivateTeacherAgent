{
 "cells": [
  {
   "cell_type": "code",
   "execution_count": null,
   "id": "8d4a2b94",
   "metadata": {
    "vscode": {
     "languageId": "plaintext"
    }
   },
   "outputs": [],
   "source": [
    "# TODO: add input prompts and the corresponding output produced by the agent"
   ]
  }
 ],
 "metadata": {
  "language_info": {
   "name": "python"
  }
 },
 "nbformat": 4,
 "nbformat_minor": 5
}
